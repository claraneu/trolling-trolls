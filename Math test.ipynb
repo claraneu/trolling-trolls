{
 "cells": [
  {
   "cell_type": "code",
   "execution_count": 7,
   "metadata": {},
   "outputs": [
    {
     "name": "stdout",
     "output_type": "stream",
     "text": [
      "2.25\n"
     ]
    }
   ],
   "source": [
    "import math\n",
    "def calculation(x):\n",
    "    if x > 2:\n",
    "        print(math.sqrt(x))\n",
    "    else:\n",
    "        print(x**2)\n",
    "calculation(1.5)"
   ]
  }
 ],
 "metadata": {
  "interpreter": {
   "hash": "15c8afe18db5f4ef6ffb5db2611128fc9fb8cbbbcae58d6c883d65ccd126d5a4"
  },
  "kernelspec": {
   "display_name": "Python 3.8.8 64-bit ('base': conda)",
   "name": "python3"
  },
  "language_info": {
   "codemirror_mode": {
    "name": "ipython",
    "version": 3
   },
   "file_extension": ".py",
   "mimetype": "text/x-python",
   "name": "python",
   "nbconvert_exporter": "python",
   "pygments_lexer": "ipython3",
   "version": "3.8.8"
  },
  "orig_nbformat": 4
 },
 "nbformat": 4,
 "nbformat_minor": 2
}
