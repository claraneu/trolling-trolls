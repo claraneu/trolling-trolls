{
 "cells": [
  {
   "cell_type": "code",
   "execution_count": 2,
   "metadata": {},
   "outputs": [],
   "source": [
    "import pandas as pd\n",
    "import torch\n",
    "from tqdm import tqdm\n",
    "import matplotlib.pyplot as plt\n",
    "import seaborn as sns\n",
    "import numpy as np\n",
    "from transformers import AutoTokenizer, AutoModelForSequenceClassification\n",
    "from transformers import pipeline"
   ]
  },
  {
   "cell_type": "code",
   "execution_count": 3,
   "metadata": {},
   "outputs": [
    {
     "data": {
      "text/plain": [
       "\" BartTokenizer.from_pretrained('facebook/bart-large-mnli')\\nmodel = BartForSequenceClassification.from_pretrained('facebook/bart-large-mnli') \""
      ]
     },
     "execution_count": 3,
     "metadata": {},
     "output_type": "execute_result"
    }
   ],
   "source": [
    "#valhalla model, fastest\n",
    "tokenizer = AutoTokenizer.from_pretrained(\"valhalla/distilbart-mnli-12-1\")\n",
    "model = AutoModelForSequenceClassification.from_pretrained(\"valhalla/distilbart-mnli-12-1\", device = -1)\n",
    "\n",
    "#bart-large model\n",
    "\"\"\" BartTokenizer.from_pretrained('facebook/bart-large-mnli')\n",
    "model = BartForSequenceClassification.from_pretrained('facebook/bart-large-mnli') \"\"\""
   ]
  },
  {
   "cell_type": "code",
   "execution_count": 4,
   "metadata": {},
   "outputs": [],
   "source": [
    "try:\n",
    "    classifier = pipeline(\"zero-shot-classification\", model = model, tokenizer = tokenizer, device = -1) #classifier = pipeline(task='zero-shot-classification', model=model, tokenizer=tokenizer, framework='pt')\n",
    "except RuntimeError:\n",
    "    print(\"A runtime error occurred, check if tensorflow and pytorch are correctly installed, need to be version >= 2\")"
   ]
  },
  {
   "cell_type": "code",
   "execution_count": 5,
   "metadata": {},
   "outputs": [],
   "source": [
    "df_original  = pd.read_csv(r'copy.csv')"
   ]
  },
  {
   "cell_type": "code",
   "execution_count": 6,
   "metadata": {},
   "outputs": [],
   "source": [
    "# Dataprocessing should be inputted here, see Clara's code\n",
    "df_name = df_original.head(40)"
   ]
  },
  {
   "cell_type": "code",
   "execution_count": 11,
   "metadata": {},
   "outputs": [
    {
     "name": "stderr",
     "output_type": "stream",
     "text": [
      "  2%|▎         | 1/40 [00:01<00:45,  1.18s/it]"
     ]
    },
    {
     "name": "stdout",
     "output_type": "stream",
     "text": [
      " rt : as a woman you shouldn't complain about cleaning up your house\n",
      "['sexist', 'offensive', 'hatespeech', 'racist', 'neutral']\n",
      "[0.9784378409385681, 0.8979240655899048, 0.0648459866642952, 0.052967578172683716, 0.0029014074243605137]\n",
      "\n",
      "\n"
     ]
    },
    {
     "name": "stderr",
     "output_type": "stream",
     "text": [
      "  5%|▌         | 2/40 [00:02<00:36,  1.03it/s]"
     ]
    },
    {
     "name": "stdout",
     "output_type": "stream",
     "text": [
      " rt : boy dats cold\n",
      "['offensive', 'hatespeech', 'sexist', 'racist', 'neutral']\n",
      "[0.7940925359725952, 0.7763931155204773, 0.13457690179347992, 0.0533047616481781, 0.00312512693926692]\n",
      "\n",
      "\n"
     ]
    },
    {
     "name": "stderr",
     "output_type": "stream",
     "text": [
      "  8%|▊         | 3/40 [00:03<00:46,  1.25s/it]"
     ]
    },
    {
     "name": "stdout",
     "output_type": "stream",
     "text": [
      " rt  dawg rt : you ever fuck a bitch and she start to cry? you be confused as shit\n",
      "['offensive', 'sexist', 'racist', 'hatespeech', 'neutral']\n",
      "[0.9513855576515198, 0.776006281375885, 0.1819409281015396, 0.14068084955215454, 0.00036044884473085403]\n",
      "\n",
      "\n"
     ]
    },
    {
     "name": "stderr",
     "output_type": "stream",
     "text": [
      " 10%|█         | 4/40 [00:04<00:44,  1.23s/it]"
     ]
    },
    {
     "name": "stdout",
     "output_type": "stream",
     "text": [
      " rt _g_anderson: _based she look like a tranny\n",
      "['offensive', 'racist', 'sexist', 'hatespeech', 'neutral']\n",
      "[0.9256668090820312, 0.7491874098777771, 0.740682065486908, 0.06922344118356705, 0.0018300164956599474]\n",
      "\n",
      "\n"
     ]
    },
    {
     "name": "stderr",
     "output_type": "stream",
     "text": [
      " 15%|█▌        | 6/40 [00:07<00:43,  1.29s/it]"
     ]
    },
    {
     "name": "stdout",
     "output_type": "stream",
     "text": [
      "\"_madison_x: the shit just blows me\n",
      "['offensive', 'racist', 'hatespeech', 'sexist', 'neutral']\n",
      "[0.9982762336730957, 0.3076462745666504, 0.27149006724357605, 0.21893034875392914, 0.00011896310024894774]\n",
      "\n",
      "\n"
     ]
    },
    {
     "name": "stderr",
     "output_type": "stream",
     "text": [
      " 18%|█▊        | 7/40 [00:08<00:42,  1.30s/it]"
     ]
    },
    {
     "name": "stdout",
     "output_type": "stream",
     "text": [
      "\"@__brighterdays: i can not just sit up and hate on another bitch \n",
      "['offensive', 'hatespeech', 'sexist', 'racist', 'neutral']\n",
      "[0.949338436126709, 0.7977164387702942, 0.775252640247345, 0.2769066393375397, 0.0012614167062565684]\n",
      "\n",
      "\n"
     ]
    },
    {
     "name": "stderr",
     "output_type": "stream",
     "text": [
      " 20%|██        | 8/40 [00:10<00:41,  1.30s/it]"
     ]
    },
    {
     "name": "stdout",
     "output_type": "stream",
     "text": [
      "“: cause i'm tired of you big bitches coming for us skinny girls”\n",
      "['sexist', 'hatespeech', 'offensive', 'racist', 'neutral']\n",
      "[0.8603590726852417, 0.6774135231971741, 0.3200952410697937, 0.23865444958209991, 0.0011993367224931717]\n",
      "\n",
      "\n"
     ]
    },
    {
     "name": "stderr",
     "output_type": "stream",
     "text": [
      " 22%|██▎       | 9/40 [00:11<00:38,  1.23s/it]"
     ]
    },
    {
     "name": "stdout",
     "output_type": "stream",
     "text": [
      "\" & you might not get ya bitch back & thats that \"\n",
      "['hatespeech', 'sexist', 'offensive', 'racist', 'neutral']\n",
      "[0.6119954586029053, 0.5925929546356201, 0.4207615852355957, 0.15590155124664307, 0.0032551917247474194]\n",
      "\n",
      "\n"
     ]
    },
    {
     "name": "stderr",
     "output_type": "stream",
     "text": [
      " 25%|██▌       | 10/40 [00:12<00:36,  1.20s/it]"
     ]
    },
    {
     "name": "stdout",
     "output_type": "stream",
     "text": [
      "\" _ :hobbies include: fighting mariam\"\n",
      "\n",
      "bitch\n",
      "['offensive', 'sexist', 'racist', 'hatespeech', 'neutral']\n",
      "[0.9162443280220032, 0.8869963884353638, 0.7999773621559143, 0.6022580862045288, 0.0003511799732223153]\n",
      "\n",
      "\n"
     ]
    },
    {
     "name": "stderr",
     "output_type": "stream",
     "text": [
      " 28%|██▊       | 11/40 [00:13<00:35,  1.23s/it]"
     ]
    },
    {
     "name": "stdout",
     "output_type": "stream",
     "text": [
      "\" keeks is a bitch she curves everyone \" lol i walked into a conversation like this\n",
      "['offensive', 'sexist', 'hatespeech', 'racist', 'neutral']\n",
      "[0.9705602526664734, 0.9377549886703491, 0.7810362577438354, 0.15758806467056274, 0.00040111676207743585]\n",
      "\n",
      "\n"
     ]
    },
    {
     "name": "stderr",
     "output_type": "stream",
     "text": [
      " 30%|███       | 12/40 [00:14<00:31,  1.12s/it]"
     ]
    },
    {
     "name": "stdout",
     "output_type": "stream",
     "text": [
      "\" murda gang bitch its gang land \"\n",
      "['hatespeech', 'offensive', 'racist', 'sexist', 'neutral']\n",
      "[0.9859157204627991, 0.8035455346107483, 0.6393623352050781, 0.3991800546646118, 0.00034155967296101153]\n",
      "\n",
      "\n"
     ]
    },
    {
     "name": "stderr",
     "output_type": "stream",
     "text": [
      " 32%|███▎      | 13/40 [00:15<00:29,  1.09s/it]"
     ]
    },
    {
     "name": "stdout",
     "output_type": "stream",
     "text": [
      "\" so hoes that smoke are losers ? \" yea \n",
      "['sexist', 'offensive', 'hatespeech', 'racist', 'neutral']\n",
      "[0.8874859809875488, 0.8171079158782959, 0.5044309496879578, 0.33767449855804443, 0.005199314095079899]\n",
      "\n",
      "\n"
     ]
    },
    {
     "name": "stderr",
     "output_type": "stream",
     "text": [
      " 38%|███▊      | 15/40 [00:17<00:24,  1.01it/s]"
     ]
    },
    {
     "name": "stdout",
     "output_type": "stream",
     "text": [
      "\" bitch get up off me \"\n",
      "['sexist', 'hatespeech', 'offensive', 'racist', 'neutral']\n",
      "[0.9264683127403259, 0.8001973032951355, 0.7832137942314148, 0.2092466801404953, 0.003137946594506502]\n",
      "\n",
      "\n"
     ]
    },
    {
     "name": "stderr",
     "output_type": "stream",
     "text": [
      " 40%|████      | 16/40 [00:18<00:23,  1.04it/s]"
     ]
    },
    {
     "name": "stdout",
     "output_type": "stream",
     "text": [
      "\" bitch nigga miss me with it \"\n",
      "['hatespeech', 'sexist', 'offensive', 'racist', 'neutral']\n",
      "[0.9299280643463135, 0.8208025693893433, 0.8168356418609619, 0.7958343029022217, 0.0015841111307963729]\n",
      "\n",
      "\n"
     ]
    },
    {
     "name": "stderr",
     "output_type": "stream",
     "text": [
      " 42%|████▎     | 17/40 [00:19<00:20,  1.10it/s]"
     ]
    },
    {
     "name": "stdout",
     "output_type": "stream",
     "text": [
      "\" bitch plz whatever \"\n",
      "['sexist', 'hatespeech', 'offensive', 'racist', 'neutral']\n",
      "[0.800070583820343, 0.7356282472610474, 0.42850807309150696, 0.09877222031354904, 0.07198610156774521]\n",
      "\n",
      "\n"
     ]
    },
    {
     "name": "stderr",
     "output_type": "stream",
     "text": [
      " 45%|████▌     | 18/40 [00:19<00:19,  1.13it/s]"
     ]
    },
    {
     "name": "stdout",
     "output_type": "stream",
     "text": [
      "\" bitch who do you love \"\n",
      "['sexist', 'offensive', 'racist', 'hatespeech', 'neutral']\n",
      "[0.9356801509857178, 0.7418124079704285, 0.17884796857833862, 0.1618511974811554, 0.004994305782020092]\n",
      "\n",
      "\n"
     ]
    },
    {
     "name": "stderr",
     "output_type": "stream",
     "text": [
      " 48%|████▊     | 19/40 [00:20<00:18,  1.13it/s]"
     ]
    },
    {
     "name": "stdout",
     "output_type": "stream",
     "text": [
      "\" bitches get cut off everyday b \"\n",
      "['sexist', 'offensive', 'hatespeech', 'racist', 'neutral']\n",
      "[0.7679325938224792, 0.6037854552268982, 0.1347745954990387, 0.09304271638393402, 0.0019174672197550535]\n",
      "\n",
      "\n"
     ]
    },
    {
     "name": "stderr",
     "output_type": "stream",
     "text": [
      " 50%|█████     | 20/40 [00:21<00:17,  1.14it/s]"
     ]
    },
    {
     "name": "stdout",
     "output_type": "stream",
     "text": [
      "\" black bottle & a bad bitch \"\n",
      "['racist', 'offensive', 'hatespeech', 'sexist', 'neutral']\n",
      "[0.9499057531356812, 0.9192680716514587, 0.8598911762237549, 0.814226508140564, 0.00019474698638077825]\n",
      "\n",
      "\n"
     ]
    },
    {
     "name": "stderr",
     "output_type": "stream",
     "text": [
      " 52%|█████▎    | 21/40 [00:22<00:16,  1.14it/s]"
     ]
    },
    {
     "name": "stdout",
     "output_type": "stream",
     "text": [
      "\" broke bitch cant tell me nothing \"\n",
      "['sexist', 'hatespeech', 'offensive', 'racist', 'neutral']\n",
      "[0.7845158576965332, 0.38111481070518494, 0.24744568765163422, 0.14893276989459991, 0.001915152883157134]\n",
      "\n",
      "\n"
     ]
    },
    {
     "name": "stderr",
     "output_type": "stream",
     "text": [
      " 55%|█████▌    | 22/40 [00:23<00:15,  1.15it/s]"
     ]
    },
    {
     "name": "stdout",
     "output_type": "stream",
     "text": [
      "\" cancel that bitch like nino \"\n",
      "['offensive', 'sexist', 'hatespeech', 'racist', 'neutral']\n",
      "[0.9400047659873962, 0.72738116979599, 0.5943587422370911, 0.3110629618167877, 0.004568829201161861]\n",
      "\n",
      "\n"
     ]
    },
    {
     "name": "stderr",
     "output_type": "stream",
     "text": [
      " 57%|█████▊    | 23/40 [00:24<00:15,  1.11it/s]"
     ]
    },
    {
     "name": "stdout",
     "output_type": "stream",
     "text": [
      "\" cant you see these hoes wont change \"\n",
      "['sexist', 'offensive', 'racist', 'hatespeech', 'neutral']\n",
      "[0.7546282410621643, 0.36084505915641785, 0.15497706830501556, 0.13803628087043762, 0.0006224268581718206]\n",
      "\n",
      "\n"
     ]
    },
    {
     "name": "stderr",
     "output_type": "stream",
     "text": [
      " 60%|██████    | 24/40 [00:25<00:17,  1.09s/it]"
     ]
    },
    {
     "name": "stdout",
     "output_type": "stream",
     "text": [
      "\" fuck no that bitch dont even suck dick \" 😂😂😂 the kermit videos bout to fuck ig up\n",
      "['offensive', 'sexist', 'hatespeech', 'racist', 'neutral']\n",
      "[0.8541387915611267, 0.4033378064632416, 0.32280510663986206, 0.04978986084461212, 0.00023835439060349017]\n",
      "\n",
      "\n"
     ]
    },
    {
     "name": "stderr",
     "output_type": "stream",
     "text": [
      " 62%|██████▎   | 25/40 [00:27<00:16,  1.12s/it]"
     ]
    },
    {
     "name": "stdout",
     "output_type": "stream",
     "text": [
      "\" got ya bitch tip toeing on my hardwood floors \" 😂 \n",
      "['offensive', 'hatespeech', 'sexist', 'racist', 'neutral']\n",
      "[0.9266583919525146, 0.7865529656410217, 0.7689049243927002, 0.09525922685861588, 0.0010135445045307279]\n",
      "\n",
      "\n"
     ]
    },
    {
     "name": "stderr",
     "output_type": "stream",
     "text": [
      " 65%|██████▌   | 26/40 [00:28<00:14,  1.07s/it]"
     ]
    },
    {
     "name": "stdout",
     "output_type": "stream",
     "text": [
      "\" her pussy lips like heaven doors \" 😌\n",
      "['sexist', 'offensive', 'racist', 'hatespeech', 'neutral']\n",
      "[0.5785389542579651, 0.2642337381839752, 0.010179569013416767, 0.0026691623497754335, 0.001052725943736732]\n",
      "\n",
      "\n"
     ]
    },
    {
     "name": "stderr",
     "output_type": "stream",
     "text": [
      " 68%|██████▊   | 27/40 [00:28<00:13,  1.01s/it]"
     ]
    },
    {
     "name": "stdout",
     "output_type": "stream",
     "text": [
      "\" hoe what its hitting for \"\n",
      "['offensive', 'sexist', 'racist', 'hatespeech', 'neutral']\n",
      "[0.6102291941642761, 0.08840546756982803, 0.08763164281845093, 0.03682633489370346, 0.0036143208853900433]\n",
      "\n",
      "\n"
     ]
    },
    {
     "name": "stderr",
     "output_type": "stream",
     "text": [
      " 70%|███████   | 28/40 [00:29<00:11,  1.03it/s]"
     ]
    },
    {
     "name": "stdout",
     "output_type": "stream",
     "text": [
      "\" i met that pussy on ocean dr \n",
      "['offensive', 'sexist', 'hatespeech', 'racist', 'neutral']\n",
      "[0.7955021262168884, 0.7210569381713867, 0.5200067162513733, 0.06350692361593246, 0.0022078361362218857]\n",
      "\n",
      "\n"
     ]
    },
    {
     "name": "stderr",
     "output_type": "stream",
     "text": [
      " 72%|███████▎  | 29/40 [00:30<00:11,  1.02s/it]"
     ]
    },
    {
     "name": "stdout",
     "output_type": "stream",
     "text": [
      "\" i need a trippy bitch who fuck on hennessy \"\n",
      "['sexist', 'offensive', 'racist', 'hatespeech', 'neutral']\n",
      "[0.867834746837616, 0.39203548431396484, 0.13123466074466705, 0.08478087186813354, 0.0002429704909445718]\n",
      "\n",
      "\n"
     ]
    },
    {
     "name": "stderr",
     "output_type": "stream",
     "text": [
      " 75%|███████▌  | 30/40 [00:31<00:10,  1.02s/it]"
     ]
    },
    {
     "name": "stdout",
     "output_type": "stream",
     "text": [
      "\" i spend my money how i want bitch its my business \"\n",
      "['sexist', 'hatespeech', 'offensive', 'racist', 'neutral']\n",
      "[0.5342047810554504, 0.4580884575843811, 0.26805058121681213, 0.09080468118190765, 0.005414056126028299]\n",
      "\n",
      "\n"
     ]
    },
    {
     "name": "stderr",
     "output_type": "stream",
     "text": [
      " 78%|███████▊  | 31/40 [00:33<00:09,  1.05s/it]"
     ]
    },
    {
     "name": "stdout",
     "output_type": "stream",
     "text": [
      "\" i txt my old bitch my new bitch pussy wetter \"\n",
      "['sexist', 'racist', 'offensive', 'hatespeech', 'neutral']\n",
      "[0.9546530246734619, 0.3712116777896881, 0.3463810980319977, 0.05850548669695854, 0.0009718115325085819]\n",
      "\n",
      "\n"
     ]
    },
    {
     "name": "stderr",
     "output_type": "stream",
     "text": [
      " 80%|████████  | 32/40 [00:34<00:09,  1.14s/it]"
     ]
    },
    {
     "name": "stdout",
     "output_type": "stream",
     "text": [
      "\" i'd say im back to the old me but my old bitches would get excited \" 😌\n",
      "['sexist', 'hatespeech', 'offensive', 'racist', 'neutral']\n",
      "[0.6559138298034668, 0.08254069834947586, 0.03973618522286415, 0.020464641973376274, 0.010098380036652088]\n",
      "\n",
      "\n"
     ]
    },
    {
     "name": "stderr",
     "output_type": "stream",
     "text": [
      " 82%|████████▎ | 33/40 [00:35<00:07,  1.14s/it]"
     ]
    },
    {
     "name": "stdout",
     "output_type": "stream",
     "text": [
      "\" if you aint bout that murder game pussy nigga shut up \"\n",
      "['offensive', 'hatespeech', 'sexist', 'racist', 'neutral']\n",
      "[0.9515302777290344, 0.9364069700241089, 0.9145834445953369, 0.7794151306152344, 0.0006000306457281113]\n",
      "\n",
      "\n"
     ]
    },
    {
     "name": "stderr",
     "output_type": "stream",
     "text": [
      " 85%|████████▌ | 34/40 [00:36<00:06,  1.11s/it]"
     ]
    },
    {
     "name": "stdout",
     "output_type": "stream",
     "text": [
      "\" if you're toes ain't done you pussy stinks \"\n",
      "['offensive', 'sexist', 'hatespeech', 'racist', 'neutral']\n",
      "[0.963909924030304, 0.8639248013496399, 0.7078208923339844, 0.21395140886306763, 0.0017247844953089952]\n",
      "\n",
      "\n"
     ]
    },
    {
     "name": "stderr",
     "output_type": "stream",
     "text": [
      " 88%|████████▊ | 35/40 [00:37<00:05,  1.09s/it]"
     ]
    },
    {
     "name": "stdout",
     "output_type": "stream",
     "text": [
      "\" im done with bitter bitches its a wrap for that \n",
      "['offensive', 'hatespeech', 'sexist', 'racist', 'neutral']\n",
      "[0.7771784663200378, 0.6961096525192261, 0.18384265899658203, 0.020053353160619736, 0.0025728128384798765]\n",
      "\n",
      "\n"
     ]
    },
    {
     "name": "stderr",
     "output_type": "stream",
     "text": [
      " 90%|█████████ | 36/40 [00:38<00:04,  1.00s/it]"
     ]
    },
    {
     "name": "stdout",
     "output_type": "stream",
     "text": [
      "\" is that ya bitch \"\n",
      "['hatespeech', 'offensive', 'sexist', 'racist', 'neutral']\n",
      "[0.9310804605484009, 0.9215798377990723, 0.826458215713501, 0.35621365904808044, 0.0013349700020626187]\n",
      "\n",
      "\n"
     ]
    },
    {
     "name": "stderr",
     "output_type": "stream",
     "text": [
      " 92%|█████████▎| 37/40 [00:39<00:02,  1.00it/s]"
     ]
    },
    {
     "name": "stdout",
     "output_type": "stream",
     "text": [
      "\" it aint nothing to cut a bitch off \"\n",
      "['sexist', 'offensive', 'hatespeech', 'racist', 'neutral']\n",
      "[0.8152914643287659, 0.8088436722755432, 0.4272534251213074, 0.14500956237316132, 0.0005389478174038231]\n",
      "\n",
      "\n"
     ]
    },
    {
     "name": "stderr",
     "output_type": "stream",
     "text": [
      " 95%|█████████▌| 38/40 [00:40<00:02,  1.05s/it]"
     ]
    },
    {
     "name": "stdout",
     "output_type": "stream",
     "text": [
      "\" jus meet son now he ya mane ass bitches \" shots\n",
      "['hatespeech', 'sexist', 'offensive', 'racist', 'neutral']\n",
      "[0.9233523011207581, 0.916297435760498, 0.8558052182197571, 0.5832903385162354, 0.00045430564205162227]\n",
      "\n",
      "\n"
     ]
    },
    {
     "name": "stderr",
     "output_type": "stream",
     "text": [
      " 98%|█████████▊| 39/40 [00:41<00:01,  1.06s/it]"
     ]
    },
    {
     "name": "stdout",
     "output_type": "stream",
     "text": [
      "\" lames crying over hoes thats tears of a clown \"\n",
      "['offensive', 'sexist', 'hatespeech', 'racist', 'neutral']\n",
      "[0.9754905700683594, 0.9681472182273865, 0.43790268898010254, 0.1366191953420639, 0.001464027096517384]\n",
      "\n",
      "\n"
     ]
    },
    {
     "name": "stderr",
     "output_type": "stream",
     "text": [
      "100%|██████████| 40/40 [00:42<00:00,  1.07s/it]"
     ]
    },
    {
     "name": "stdout",
     "output_type": "stream",
     "text": [
      "\" like snoop said in 94 we dont love these hoes \"\n",
      "['hatespeech', 'offensive', 'sexist', 'racist', 'neutral']\n",
      "[0.9239574074745178, 0.8668079972267151, 0.7081936001777649, 0.27145346999168396, 0.0009417111286893487]\n",
      "\n",
      "\n",
      "[1, 15, 6, 0, 16]\n"
     ]
    },
    {
     "name": "stderr",
     "output_type": "stream",
     "text": [
      "\n"
     ]
    }
   ],
   "source": [
    "candidate_labels = ['racist', 'sexist', 'hatespeech', 'neutral', 'offensive']\n",
    "candidate_results = [0, 0, 0, 0, 0]\n",
    "\n",
    "for sent in tqdm(df_name['tweet'].values):\n",
    "        \n",
    "    res = classifier(sent, candidate_labels, multi_label = True) #change multiclass to True for different results\n",
    "\n",
    "    if res['labels'][0] == 'racist' and res['scores'][0] > 0.5:\n",
    "        candidate_results[0] = candidate_results[0] + 1\n",
    "    if res['labels'][0] == 'sexist' and res['scores'][0] > 0.5:\n",
    "        candidate_results[1] = candidate_results[1] + 1\n",
    "    if res['labels'][0] == 'hatespeech' and res['scores'][0] > 0.5:\n",
    "        candidate_results[2] = candidate_results[2] + 1\n",
    "    if res['labels'][0] == 'neutral' and res['scores'][0] > 0.5:\n",
    "        candidate_results[3] = candidate_results[3] + 1\n",
    "    if res['labels'][0] == 'offensive' and res['scores'][0] > 0.5:\n",
    "        candidate_results[4] = candidate_results[4] + 1\n",
    "\n",
    "    if res['scores'][0] > 0.5:\n",
    "        print(sent)\n",
    "        print(res['labels'])\n",
    "        print(res['scores'])\n",
    "        print('\\n')\n",
    "\n",
    "print(candidate_results)"
   ]
  },
  {
   "cell_type": "code",
   "execution_count": 8,
   "metadata": {},
   "outputs": [
    {
     "data": {
      "text/html": [
       "<div>\n",
       "<style scoped>\n",
       "    .dataframe tbody tr th:only-of-type {\n",
       "        vertical-align: middle;\n",
       "    }\n",
       "\n",
       "    .dataframe tbody tr th {\n",
       "        vertical-align: top;\n",
       "    }\n",
       "\n",
       "    .dataframe thead th {\n",
       "        text-align: right;\n",
       "    }\n",
       "</style>\n",
       "<table border=\"1\" class=\"dataframe\">\n",
       "  <thead>\n",
       "    <tr style=\"text-align: right;\">\n",
       "      <th></th>\n",
       "      <th>labels</th>\n",
       "      <th>values</th>\n",
       "    </tr>\n",
       "  </thead>\n",
       "  <tbody>\n",
       "    <tr>\n",
       "      <th>0</th>\n",
       "      <td>racist</td>\n",
       "      <td>0</td>\n",
       "    </tr>\n",
       "    <tr>\n",
       "      <th>1</th>\n",
       "      <td>sexist</td>\n",
       "      <td>6</td>\n",
       "    </tr>\n",
       "    <tr>\n",
       "      <th>2</th>\n",
       "      <td>hatespeech</td>\n",
       "      <td>9</td>\n",
       "    </tr>\n",
       "    <tr>\n",
       "      <th>3</th>\n",
       "      <td>neutral</td>\n",
       "      <td>0</td>\n",
       "    </tr>\n",
       "    <tr>\n",
       "      <th>4</th>\n",
       "      <td>offensive</td>\n",
       "      <td>2</td>\n",
       "    </tr>\n",
       "  </tbody>\n",
       "</table>\n",
       "</div>"
      ],
      "text/plain": [
       "       labels  values\n",
       "0      racist       0\n",
       "1      sexist       6\n",
       "2  hatespeech       9\n",
       "3     neutral       0\n",
       "4   offensive       2"
      ]
     },
     "execution_count": 8,
     "metadata": {},
     "output_type": "execute_result"
    }
   ],
   "source": [
    "data = {'labels': candidate_labels, 'values': candidate_results}\n",
    "\n",
    "df_frequency = pd.DataFrame(data, columns=['labels', 'values'])\n",
    "\n",
    "df_frequency.head()"
   ]
  },
  {
   "cell_type": "code",
   "execution_count": 9,
   "metadata": {},
   "outputs": [
    {
     "data": {
      "image/png": "[encoded data removed]",
      "text/plain": [
       "<Figure size 432x288 with 1 Axes>"
      ]
     },
     "metadata": {
      "needs_background": "light"
     },
     "output_type": "display_data"
    }
   ],
   "source": [
    "plt.bar(res[\"labels\"], res[\"scores\"])\n",
    "plt.yticks(list(np.arange(0, 1, 0.1)))\n",
    "plt.show()"
   ]
  },
  {
   "cell_type": "code",
   "execution_count": 10,
   "metadata": {},
   "outputs": [
    {
     "data": {
      "text/plain": [
       "<AxesSubplot:xlabel='labels', ylabel='values'>"
      ]
     },
     "execution_count": 10,
     "metadata": {},
     "output_type": "execute_result"
    },
    {
     "data": {
      "image/png": "[encoded data removed]",
      "text/plain": [
       "<Figure size 432x288 with 1 Axes>"
      ]
     },
     "metadata": {
      "needs_background": "light"
     },
     "output_type": "display_data"
    }
   ],
   "source": [
    "sns.barplot(data = df_frequency, x = 'labels', y = 'values')"
   ]
  }
 ],
 "metadata": {
  "interpreter": {
   "hash": "b3ba2566441a7c06988d0923437866b63cedc61552a5af99d1f4fb67d367b25f"
  },
  "kernelspec": {
   "display_name": "Python 3.8.8 64-bit ('base': conda)",
   "language": "python",
   "name": "python3"
  },
  "language_info": {
   "codemirror_mode": {
    "name": "ipython",
    "version": 3
   },
   "file_extension": ".py",
   "mimetype": "text/x-python",
   "name": "python",
   "nbconvert_exporter": "python",
   "pygments_lexer": "ipython3",
   "version": "3.9.7"
  },
  "orig_nbformat": 4
 },
 "nbformat": 4,
 "nbformat_minor": 2
}
