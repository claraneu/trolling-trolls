{
 "cells": [
  {
   "cell_type": "code",
   "execution_count": null,
   "metadata": {},
   "outputs": [],
   "source": [
    "!pip install transformers==3.1.0\n",
    "!pip install langdetect\n",
    "!pip install tensorflow torch"
   ]
  },
  {
   "cell_type": "code",
   "execution_count": 18,
   "metadata": {},
   "outputs": [],
   "source": [
    "import pandas as pd\n",
    "from tqdm import tqdm\n",
    "import matplotlib.pyplot as plt\n",
    "import seaborn as sns\n",
    "\n",
    "from transformers import pipeline"
   ]
  },
  {
   "cell_type": "code",
   "execution_count": 24,
   "metadata": {},
   "outputs": [
    {
     "name": "stdout",
     "output_type": "stream",
     "text": [
      "a runtime error occurred, check if tensorflow and pytorch are correctly installed, need to be version >= 2\n"
     ]
    }
   ],
   "source": [
    "try:\n",
    "    classifier = pipeline(\"zero-shot-classification\", device = 0)\n",
    "except RuntimeError:\n",
    "    print(\"A runtime error occurred, check if tensorflow and pytorch are correctly installed, need to be version >= 2\")"
   ]
  },
  {
   "cell_type": "code",
   "execution_count": null,
   "metadata": {},
   "outputs": [],
   "source": [
    "df_name  = pd.read_csv(r'csv_name')"
   ]
  },
  {
   "cell_type": "code",
   "execution_count": null,
   "metadata": {},
   "outputs": [],
   "source": [
    "# Dataprocessing should be inputted here, see Clara's code"
   ]
  },
  {
   "cell_type": "code",
   "execution_count": null,
   "metadata": {},
   "outputs": [],
   "source": [
    "candidate_labels = ['racist', 'sexist', 'hatespeech', 'neutral']\n",
    "candidate_results = [0, 0, 0, 0]\n",
    "\n",
    "for sent in tqdm(df_name['name_of_tweets_column'].values):\n",
    "    res = classifier(sent, candidate_labels)\n",
    "\n",
    "    if res['labels'][0] == 'racist' and res['scores'][0] > 0.5:\n",
    "        candidate_results[0] = candidate_results[0] + 1\n",
    "    if res['labels'][0] == 'sexist' and res['scores'][0] > 0.5:\n",
    "        candidate_results[1] = candidate_results[1] + 1\n",
    "    if res['labels'][0] == 'hatespeech' and res['scores'][0] > 0.5:\n",
    "        candidate_results[2] = candidate_results[2] + 1\n",
    "    if res['labels'][0] == 'neutral' and res['scores'][0] > 0.5:\n",
    "        candidate_results[3] = candidate_results[3] + 1\n",
    "\n",
    "    if res['scores'][0] > 0.5:\n",
    "        print(sent)\n",
    "        print(res['labels'])\n",
    "        print(res['scores'])\n",
    "        print('\\n')\n",
    "\n",
    "print(candidate_results)"
   ]
  },
  {
   "cell_type": "code",
   "execution_count": null,
   "metadata": {},
   "outputs": [],
   "source": [
    "data = {'labels': candidate_labels, 'values': candidate_results}\n",
    "\n",
    "df_frequency = pd.DataFrame(data, columns=['labels', 'values'])\n",
    "\n",
    "df_frequency.head()"
   ]
  },
  {
   "cell_type": "code",
   "execution_count": null,
   "metadata": {},
   "outputs": [],
   "source": [
    "sns.barplot(data = df_frequency, x = 'lables', y = 'values')"
   ]
  }
 ],
 "metadata": {
  "interpreter": {
   "hash": "b3ba2566441a7c06988d0923437866b63cedc61552a5af99d1f4fb67d367b25f"
  },
  "kernelspec": {
   "display_name": "Python 3.8.8 64-bit ('base': conda)",
   "language": "python",
   "name": "python3"
  },
  "language_info": {
   "codemirror_mode": {
    "name": "ipython",
    "version": 3
   },
   "file_extension": ".py",
   "mimetype": "text/x-python",
   "name": "python",
   "nbconvert_exporter": "python",
   "pygments_lexer": "ipython3",
   "version": "3.8.8"
  },
  "orig_nbformat": 4
 },
 "nbformat": 4,
 "nbformat_minor": 2
}
