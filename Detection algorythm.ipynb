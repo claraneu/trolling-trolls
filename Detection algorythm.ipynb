{
 "cells": [
  {
   "cell_type": "code",
   "execution_count": 1,
   "id": "0f9578e7-0885-469f-a8f2-1ff3f3a1c4cc",
   "metadata": {},
   "outputs": [],
   "source": [
    "import pandas\n",
    "import re\n",
    "import colorama\n",
    "from colorama import Fore\n",
    "df = pandas.read_csv('/Users/madswolff/TechLabs/test/bad.csv')\n",
    "nonos = df.values.tolist()"
   ]
  },
  {
   "cell_type": "code",
   "execution_count": 2,
   "id": "5d1134b8-a98a-4ab4-bd2d-9b58e98d7424",
   "metadata": {},
   "outputs": [],
   "source": [
    "def flatten_list(nonos):\n",
    "    new_list = []\n",
    "    for x in nonos:\n",
    "        if type(x) is list:\n",
    "            for item in x:\n",
    "                new_list.append(item)\n",
    "        else:\n",
    "            new_list.append(x)\n",
    "    return new_list\n",
    "\n",
    "flat_list = flatten_list(nonos)"
   ]
  },
  {
   "cell_type": "code",
   "execution_count": 7,
   "id": "847dd9c5-35e3-4d6f-b5a1-b533043729c9",
   "metadata": {},
   "outputs": [
    {
     "name": "stdout",
     "output_type": "stream",
     "text": [
      "x\n",
      "balls\n",
      "\u001b[31mThe bad word(s) found in the text were: ['balls']\n"
     ]
    }
   ],
   "source": [
    "user_input = input(\"Please input some text: \").lower()\n",
    "\n",
    "new_user_input = re.sub('[^a-zA-Z0-9 \\n\\.]', '', user_input)\n",
    "\n",
    "user_input_list = new_user_input.split()\n",
    "\n",
    "input_set = set(user_input_list)\n",
    "\n",
    "intersection = input_set.intersection(flat_list)\n",
    "\n",
    "intersection_as_list = list(intersection)\n",
    "\n",
    "check = any(item in user_input_list for item in flat_list)\n",
    "\n",
    "for x in user_input_list:\n",
    "    if x in flat_list:\n",
    "        print('')#new_user_input,':', Fore.RED + x)\n",
    "        #Question: is it possible to set the colour of the 'bad' words within the new_user_input printed string without\n",
    "        #repeating the word after the sentence. Example; hello this is a (bad word) test. --> hellop this is a (bad word in red) test.\n",
    "    else:\n",
    "        continue\n",
    "\n",
    "\n",
    "if check == True:\n",
    "    print(new_user_input)\n",
    "    print(Fore.RED + \"The bad word(s) found in the text were:\", intersection_as_list)\n",
    "if check == False:\n",
    "    print(Fore.GREEN + \"No bad words were found in the inputted text!\")\n"
   ]
  },
  {
   "cell_type": "code",
   "execution_count": null,
   "id": "b27d8699-0c9b-403b-b1d8-9a86636bcfba",
   "metadata": {},
   "outputs": [],
   "source": []
  }
 ],
 "metadata": {
  "interpreter": {
   "hash": "15c8afe18db5f4ef6ffb5db2611128fc9fb8cbbbcae58d6c883d65ccd126d5a4"
  },
  "kernelspec": {
   "display_name": "Python 3.8.8 64-bit ('base': conda)",
   "name": "python3"
  },
  "language_info": {
   "codemirror_mode": {
    "name": "ipython",
    "version": 3
   },
   "file_extension": ".py",
   "mimetype": "text/x-python",
   "name": "python",
   "nbconvert_exporter": "python",
   "pygments_lexer": "ipython3",
   "version": "3.8.8"
  }
 },
 "nbformat": 4,
 "nbformat_minor": 5
}
