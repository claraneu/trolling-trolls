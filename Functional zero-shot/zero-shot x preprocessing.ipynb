{
 "cells": [
  {
   "cell_type": "code",
   "execution_count": 11,
   "metadata": {},
   "outputs": [
    {
     "name": "stdout",
     "output_type": "stream",
     "text": [
      "INITIALIZING DATA PROCESSING + CLEANING\n",
      "\n",
      " DATA PROCESSING + CLEANING COMPLETE \n",
      "\n",
      "INITIALIZING DATA ANALYSIS\n",
      "The standard model being used is Valhalla, an optimized version of the Bart Large pretrained analysis model providing faster results. \n",
      " If you have not used it before, it may take a while to download as it is quite large. \n",
      "\n",
      "['covid', 'negative', 'positive']\n",
      "\n",
      "\n",
      "APPRPOVED, INITALIZING TWEET ANALYSIS \n",
      "\n",
      "['covid', 'negative', 'positive']\n"
     ]
    },
    {
     "name": "stderr",
     "output_type": "stream",
     "text": [
      "  2%|▏         | 1/50 [00:00<00:22,  2.19it/s]"
     ]
    },
    {
     "name": "stdout",
     "output_type": "stream",
     "text": [
      "b'$7\n",
      "['negative', 'positive', 'covid']\n",
      "[0.9872449040412903, 0.38887280225753784, 0.3649911880493164]\n",
      "\n",
      "\n"
     ]
    },
    {
     "name": "stderr",
     "output_type": "stream",
     "text": [
      "  4%|▍         | 2/50 [00:01<00:33,  1.44it/s]"
     ]
    },
    {
     "name": "stdout",
     "output_type": "stream",
     "text": [
      "b'news: the efl say 25% of players are not vaccinated against covid kmfmnews \n",
      "['negative', 'covid', 'positive']\n",
      "[0.7195845246315002, 0.6063669919967651, 0.0031882126349955797]\n",
      "\n",
      "\n"
     ]
    },
    {
     "name": "stderr",
     "output_type": "stream",
     "text": [
      "  6%|▌         | 3/50 [00:02<00:34,  1.38it/s]"
     ]
    },
    {
     "name": "stdout",
     "output_type": "stream",
     "text": [
      "b'covid: action needed to limit hospital admissions - sage scientists \n",
      "['covid', 'negative', 'positive']\n",
      "[0.6725738048553467, 0.5269215106964111, 0.23183830082416534]\n",
      "\n",
      "\n"
     ]
    },
    {
     "name": "stderr",
     "output_type": "stream",
     "text": [
      "  8%|▊         | 4/50 [00:02<00:33,  1.37it/s]"
     ]
    },
    {
     "name": "stdout",
     "output_type": "stream",
     "text": [
      "b\"meanwhile in ireland covid virus is very dangerous after 8pm\n",
      "['covid', 'negative', 'positive']\n",
      "[0.8465135097503662, 0.3293897211551666, 0.0014746924862265587]\n",
      "\n",
      "\n"
     ]
    },
    {
     "name": "stderr",
     "output_type": "stream",
     "text": [
      " 10%|█         | 5/50 [00:05<01:12,  1.61s/it]"
     ]
    },
    {
     "name": "stdout",
     "output_type": "stream",
     "text": [
      "b'triple vaccinated \\xf0\\x9f\\xa6\\xb8\\xf0\\x9f\\x8f\\xbb\\xe2\\x80\\x8d\\xe2\\x99\\x80\\xef\\xb8\\x8f\\xf0\\x9f\\x92\\xaa  feeling the power growing in my veins \\xf0\\x9f\\xa4\\xaa\\xf0\\x9f\\x99\\x88  getvaccinated vaccinated covid'\n",
      "['covid', 'positive', 'negative']\n",
      "[0.964379608631134, 0.8170974850654602, 0.15723785758018494]\n",
      "\n",
      "\n"
     ]
    },
    {
     "name": "stderr",
     "output_type": "stream",
     "text": [
      " 12%|█▏        | 6/50 [00:07<01:03,  1.45s/it]"
     ]
    },
    {
     "name": "stdout",
     "output_type": "stream",
     "text": [
      "b\"la's also playing the omicrondeltablues: los angeles county is seeing the highest number of daily covid-19 cases in four months\n",
      "['covid', 'negative', 'positive']\n",
      "[0.7596291899681091, 0.6154252886772156, 0.0013315402902662754]\n",
      "\n",
      "\n"
     ]
    },
    {
     "name": "stderr",
     "output_type": "stream",
     "text": [
      " 14%|█▍        | 7/50 [00:08<01:00,  1.40s/it]"
     ]
    },
    {
     "name": "stdout",
     "output_type": "stream",
     "text": [
      "b'omicron covid i\\xe2\\x80\\x99ve just been told by testandtrace that if it is the omicron variant that they will contact you twice\n",
      "['covid', 'positive', 'negative']\n",
      "[0.9850179553031921, 0.044962212443351746, 0.03229398652911186]\n",
      "\n",
      "\n"
     ]
    },
    {
     "name": "stderr",
     "output_type": "stream",
     "text": [
      " 16%|█▌        | 8/50 [00:09<00:59,  1.41s/it]"
     ]
    },
    {
     "name": "stdout",
     "output_type": "stream",
     "text": [
      "b'it is so unfortunate that this is going to happen as we head into the third winter of covid however we must think about what these rapidly rising cases not just do to patients but to our healthcare systems and staff. \n",
      "['negative', 'covid', 'positive']\n",
      "[0.950545608997345, 0.9074780941009521, 0.00018227043619845062]\n",
      "\n",
      "\n"
     ]
    },
    {
     "name": "stderr",
     "output_type": "stream",
     "text": [
      " 18%|█▊        | 9/50 [00:11<01:01,  1.51s/it]"
     ]
    },
    {
     "name": "stdout",
     "output_type": "stream",
     "text": [
      "b'paddy power in his d4 jumper \\xe2\\x80\\x9ci\\xe2\\x80\\x99ve had more vaccines than nights out\\xe2\\x80\\x9d\\xc2\\xa0covid-19 \n",
      "['covid', 'negative', 'positive']\n",
      "[0.9234002828598022, 0.20050708949565887, 0.13461603224277496]\n",
      "\n",
      "\n"
     ]
    },
    {
     "name": "stderr",
     "output_type": "stream",
     "text": [
      " 20%|██        | 10/50 [00:12<00:52,  1.31s/it]"
     ]
    },
    {
     "name": "stdout",
     "output_type": "stream",
     "text": [
      "b'a bit like all the fear and hysteria being whipped up about covid and vacinnepassports\n",
      "['negative', 'covid', 'positive']\n",
      "[0.8795966506004333, 0.02851164899766445, 0.0006847357144579291]\n",
      "\n",
      "\n"
     ]
    },
    {
     "name": "stderr",
     "output_type": "stream",
     "text": [
      " 22%|██▏       | 11/50 [00:13<00:44,  1.15s/it]"
     ]
    },
    {
     "name": "stdout",
     "output_type": "stream",
     "text": [
      "b'no sh covid is seasonal, who could have know??? srcsm \n",
      "['covid', 'negative', 'positive']\n",
      "[0.6959219574928284, 0.16626030206680298, 0.0015627957182005048]\n",
      "\n",
      "\n"
     ]
    },
    {
     "name": "stderr",
     "output_type": "stream",
     "text": [
      " 24%|██▍       | 12/50 [00:14<00:44,  1.16s/it]"
     ]
    },
    {
     "name": "stdout",
     "output_type": "stream",
     "text": [
      "b'give us your best covid christmas carols:  omicron all ye faithful oh lateral flow of bethlehem  anothercovidchristmas'\n",
      "['covid', 'positive', 'negative']\n",
      "[0.7891451716423035, 0.13971634209156036, 0.0010127630084753036]\n",
      "\n",
      "\n"
     ]
    },
    {
     "name": "stderr",
     "output_type": "stream",
     "text": [
      " 26%|██▌       | 13/50 [00:14<00:34,  1.06it/s]"
     ]
    },
    {
     "name": "stdout",
     "output_type": "stream",
     "text": [
      "b'save lives\n",
      "['positive', 'covid', 'negative']\n",
      "[0.9482944011688232, 0.04351169988512993, 0.0012351786717772484]\n",
      "\n",
      "\n"
     ]
    },
    {
     "name": "stderr",
     "output_type": "stream",
     "text": [
      " 28%|██▊       | 14/50 [00:15<00:32,  1.09it/s]"
     ]
    },
    {
     "name": "stdout",
     "output_type": "stream",
     "text": [
      "b'the national football league (nfl) postponed three games this weekend because of covid-19 outbreaks\n",
      "['negative', 'covid', 'positive']\n",
      "[0.767952561378479, 0.3837144374847412, 0.012505458667874336]\n",
      "\n",
      "\n"
     ]
    },
    {
     "name": "stderr",
     "output_type": "stream",
     "text": [
      " 30%|███       | 15/50 [00:16<00:29,  1.19it/s]"
     ]
    },
    {
     "name": "stdout",
     "output_type": "stream",
     "text": [
      "b'at some point, these folks should end up in jail\n",
      "['negative', 'covid', 'positive']\n",
      "[0.969681978225708, 0.899877667427063, 0.0004092130111530423]\n",
      "\n",
      "\n"
     ]
    },
    {
     "name": "stderr",
     "output_type": "stream",
     "text": [
      " 32%|███▏      | 16/50 [00:17<00:34,  1.00s/it]"
     ]
    },
    {
     "name": "stdout",
     "output_type": "stream",
     "text": [
      "b'remember: if you\\xe2\\x80\\x99re wearing a facecovering, covid can\\xe2\\x80\\x99t enter your body via your chin\n",
      "['covid', 'negative', 'positive']\n",
      "[0.6272400617599487, 0.11220719665288925, 0.013358215801417828]\n",
      "\n",
      "\n"
     ]
    },
    {
     "name": "stderr",
     "output_type": "stream",
     "text": [
      " 34%|███▍      | 17/50 [00:19<00:37,  1.14s/it]"
     ]
    },
    {
     "name": "stdout",
     "output_type": "stream",
     "text": [
      "b'now is the time to get your booster vaccine and get into a routine of daily vitamin intake - covid omicron flu publichealth healthcare nhs\\xf0\\x9f\\x92\\x99 \n",
      "['covid', 'positive', 'negative']\n",
      "[0.5975480675697327, 0.03787647932767868, 0.007845061831176281]\n",
      "\n",
      "\n"
     ]
    },
    {
     "name": "stderr",
     "output_type": "stream",
     "text": [
      " 36%|███▌      | 18/50 [00:19<00:32,  1.01s/it]"
     ]
    },
    {
     "name": "stdout",
     "output_type": "stream",
     "text": [
      "b'\"huge numbers of people getting sick all at once will alter everyday reality\n",
      "['covid', 'negative', 'positive']\n",
      "[0.5273126363754272, 0.4724225699901581, 0.009211105294525623]\n",
      "\n",
      "\n"
     ]
    },
    {
     "name": "stderr",
     "output_type": "stream",
     "text": [
      " 38%|███▊      | 19/50 [00:20<00:30,  1.03it/s]"
     ]
    },
    {
     "name": "stdout",
     "output_type": "stream",
     "text": [
      "b'3 dead in karachi blast  covid internationalnews newsfeed breakingnews breaking wewantjustice'\n",
      "['covid', 'negative', 'positive']\n",
      "[0.9800358414649963, 0.20018421113491058, 0.001947790035046637]\n",
      "\n",
      "\n"
     ]
    },
    {
     "name": "stderr",
     "output_type": "stream",
     "text": [
      " 40%|████      | 20/50 [00:21<00:27,  1.10it/s]"
     ]
    },
    {
     "name": "stdout",
     "output_type": "stream",
     "text": [
      "b'morrison is like the tinman without a heart in the wizard of oz\n",
      "['negative', 'covid', 'positive']\n",
      "[0.5216024518013, 0.005605234298855066, 0.00024985760683193803]\n",
      "\n",
      "\n"
     ]
    },
    {
     "name": "stderr",
     "output_type": "stream",
     "text": [
      " 42%|████▏     | 21/50 [00:23<00:32,  1.12s/it]"
     ]
    },
    {
     "name": "stdout",
     "output_type": "stream",
     "text": [
      "b'imo | with 800,000 lost souls and doubling infection rates in the us,  (or anyone else) should not devote 6:00 to how covid is \"affecting sports schedules\" ffs  it\\'s macabre'\n",
      "['negative', 'covid', 'positive']\n",
      "[0.9572349190711975, 0.6015805602073669, 0.00015816176892258227]\n",
      "\n",
      "\n"
     ]
    },
    {
     "name": "stderr",
     "output_type": "stream",
     "text": [
      " 44%|████▍     | 22/50 [00:24<00:30,  1.09s/it]"
     ]
    },
    {
     "name": "stdout",
     "output_type": "stream",
     "text": [
      "b'could be how covid extends its life cycle and hopefully be how we are able to move forward with it as part of our lives\n",
      "['covid', 'positive', 'negative']\n",
      "[0.9981465935707092, 0.89972323179245, 0.0004605871217790991]\n",
      "\n",
      "\n"
     ]
    },
    {
     "name": "stderr",
     "output_type": "stream",
     "text": [
      " 46%|████▌     | 23/50 [00:26<00:36,  1.35s/it]"
     ]
    },
    {
     "name": "stdout",
     "output_type": "stream",
     "text": [
      "b'remember folks, best before dates on casks & kegs are just that, beer will be tasting good for a heck of a lot longer in the vast amount of cases, but if the shit hits the covid-fan please talk to us about uplifting any full casks we may have just delivered.'\n",
      "['covid', 'positive', 'negative']\n",
      "[0.5788227915763855, 0.0535288080573082, 0.033605389297008514]\n",
      "\n",
      "\n"
     ]
    },
    {
     "name": "stderr",
     "output_type": "stream",
     "text": [
      " 50%|█████     | 25/50 [00:27<00:26,  1.04s/it]"
     ]
    },
    {
     "name": "stdout",
     "output_type": "stream",
     "text": [
      "b'fuck this shit\n",
      "['negative', 'covid', 'positive']\n",
      "[0.9989700317382812, 0.14620840549468994, 0.00044832570711150765]\n",
      "\n",
      "\n"
     ]
    },
    {
     "name": "stderr",
     "output_type": "stream",
     "text": [
      " 52%|█████▏    | 26/50 [00:28<00:24,  1.01s/it]"
     ]
    },
    {
     "name": "stdout",
     "output_type": "stream",
     "text": [
      "b'with surge in omicron cases, covid 3rd wave imminent, says director of odisha public health\n",
      "['covid', 'negative', 'positive']\n",
      "[0.6086621880531311, 0.38159725069999695, 0.002602308290079236]\n",
      "\n",
      "\n"
     ]
    },
    {
     "name": "stderr",
     "output_type": "stream",
     "text": [
      " 58%|█████▊    | 29/50 [00:31<00:19,  1.06it/s]"
     ]
    },
    {
     "name": "stdout",
     "output_type": "stream",
     "text": [
      "b'economicimpact of covid-19 has been much sharper than that of global financial crisis\n",
      "['covid', 'positive', 'negative']\n",
      "[0.8690195679664612, 0.5821420550346375, 0.35303884744644165]\n",
      "\n",
      "\n"
     ]
    },
    {
     "name": "stderr",
     "output_type": "stream",
     "text": [
      " 60%|██████    | 30/50 [00:33<00:23,  1.20s/it]"
     ]
    },
    {
     "name": "stdout",
     "output_type": "stream",
     "text": [
      "b'for what it\\xe2\\x80\\x99s worth at least ppl can\\xe2\\x80\\x99t point fingers at the germans for letting hitler happen\\xe2\\x80\\xa6  covid technocracy totalitarismo'\n",
      "['covid', 'negative', 'positive']\n",
      "[0.9589369297027588, 0.7441347241401672, 0.01687445677816868]\n",
      "\n",
      "\n"
     ]
    },
    {
     "name": "stderr",
     "output_type": "stream",
     "text": [
      " 64%|██████▍   | 32/50 [00:38<00:32,  1.79s/it]"
     ]
    },
    {
     "name": "stdout",
     "output_type": "stream",
     "text": [
      "b'southafrica before covid \n",
      "['covid', 'negative', 'positive']\n",
      "[0.9166768193244934, 0.4052331745624542, 0.140796959400177]\n",
      "\n",
      "\n"
     ]
    },
    {
     "name": "stderr",
     "output_type": "stream",
     "text": [
      " 66%|██████▌   | 33/50 [00:39<00:25,  1.52s/it]"
     ]
    },
    {
     "name": "stdout",
     "output_type": "stream",
     "text": [
      "b'taylorswift album party becomes superspreader event after nearly 100 test positive for covid \n",
      "['covid', 'positive', 'negative']\n",
      "[0.6925788521766663, 0.45966580510139465, 0.002540994668379426]\n",
      "\n",
      "\n"
     ]
    },
    {
     "name": "stderr",
     "output_type": "stream",
     "text": [
      " 68%|██████▊   | 34/50 [00:40<00:21,  1.35s/it]"
     ]
    },
    {
     "name": "stdout",
     "output_type": "stream",
     "text": [
      "b'can people post link on (studys) that shows that covid vaccins works and are unharm/safe\n",
      "['covid', 'positive', 'negative']\n",
      "[0.9574942588806152, 0.8832091093063354, 0.0008912927587516606]\n",
      "\n",
      "\n"
     ]
    },
    {
     "name": "stderr",
     "output_type": "stream",
     "text": [
      " 70%|███████   | 35/50 [00:41<00:19,  1.31s/it]"
     ]
    },
    {
     "name": "stdout",
     "output_type": "stream",
     "text": [
      "b'trying to dodge the covid wildfire 1 week before christmas is really starting to feel like a real-life squid game squidgame omicron covid london christmas \n",
      "['covid', 'negative', 'positive']\n",
      "[0.8132145404815674, 0.40417978167533875, 0.0003528962843120098]\n",
      "\n",
      "\n"
     ]
    },
    {
     "name": "stderr",
     "output_type": "stream",
     "text": [
      " 72%|███████▏  | 36/50 [00:42<00:17,  1.23s/it]"
     ]
    },
    {
     "name": "stdout",
     "output_type": "stream",
     "text": [
      "bthey have security guards telling people to remove masks in a massive covid omicron outbreak??  what the actual fuck is this????'\n",
      "['covid', 'negative', 'positive']\n",
      "[0.9468275904655457, 0.9242063164710999, 0.00035561411641538143]\n",
      "\n",
      "\n"
     ]
    },
    {
     "name": "stderr",
     "output_type": "stream",
     "text": [
      " 78%|███████▊  | 39/50 [00:44<00:08,  1.35it/s]"
     ]
    },
    {
     "name": "stdout",
     "output_type": "stream",
     "text": [
      "bi agree\n",
      "['covid', 'positive', 'negative']\n",
      "[0.5203487277030945, 0.48360177874565125, 0.04662061482667923]\n",
      "\n",
      "\n"
     ]
    },
    {
     "name": "stderr",
     "output_type": "stream",
     "text": [
      " 86%|████████▌ | 43/50 [00:47<00:05,  1.26it/s]"
     ]
    },
    {
     "name": "stdout",
     "output_type": "stream",
     "text": [
      "b'asked wombo for some art to commemorate my covid booster\n",
      "['covid', 'positive', 'negative']\n",
      "[0.8758122324943542, 0.7152925729751587, 0.0014434399781748652]\n",
      "\n",
      "\n"
     ]
    },
    {
     "name": "stderr",
     "output_type": "stream",
     "text": [
      " 88%|████████▊ | 44/50 [00:48<00:05,  1.09it/s]"
     ]
    },
    {
     "name": "stdout",
     "output_type": "stream",
     "text": [
      "b\" france has got le hump again   own up, whoever's been playing silly buggers, by referring to the covid variant as omacron  \n",
      "['covid', 'negative', 'positive']\n",
      "[0.5744082927703857, 0.4953916370868683, 0.00820804201066494]\n",
      "\n",
      "\n"
     ]
    },
    {
     "name": "stderr",
     "output_type": "stream",
     "text": [
      " 90%|█████████ | 45/50 [00:49<00:04,  1.10it/s]"
     ]
    },
    {
     "name": "stdout",
     "output_type": "stream",
     "text": [
      "b'vaccine mandate blocked in texas  covid-19 texas vaccinemandates'\n",
      "['covid', 'negative', 'positive']\n",
      "[0.9494955539703369, 0.9016531705856323, 0.01769718900322914]\n",
      "\n",
      "\n"
     ]
    },
    {
     "name": "stderr",
     "output_type": "stream",
     "text": [
      " 92%|█████████▏| 46/50 [00:51<00:04,  1.02s/it]"
     ]
    },
    {
     "name": "stdout",
     "output_type": "stream",
     "text": [
      "b\" france has got le hump again   own up, whoever's been playing silly buggers, by referring to the covid variant as omacron?  \n",
      "['covid', 'negative', 'positive']\n",
      "[0.569758951663971, 0.41387471556663513, 0.0025909736286848783]\n",
      "\n",
      "\n"
     ]
    },
    {
     "name": "stderr",
     "output_type": "stream",
     "text": [
      " 94%|█████████▍| 47/50 [00:52<00:03,  1.01s/it]"
     ]
    },
    {
     "name": "stdout",
     "output_type": "stream",
     "text": [
      "b'christmas in the workhouse \\xf0\\x9f\\xa5\\xb2 fuck covid covid \n",
      "['covid', 'negative', 'positive']\n",
      "[0.9715936779975891, 0.9703925848007202, 0.0005317174945957959]\n",
      "\n",
      "\n"
     ]
    },
    {
     "name": "stderr",
     "output_type": "stream",
     "text": [
      " 96%|█████████▌| 48/50 [00:52<00:01,  1.03it/s]"
     ]
    },
    {
     "name": "stdout",
     "output_type": "stream",
     "text": [
      "b'if you have already had your covid-19 booster, please encourage your family and friends to get boosted\n",
      "['positive', 'covid', 'negative']\n",
      "[0.8427850604057312, 0.46451762318611145, 0.0029517137445509434]\n",
      "\n",
      "\n"
     ]
    },
    {
     "name": "stderr",
     "output_type": "stream",
     "text": [
      " 98%|█████████▊| 49/50 [00:54<00:01,  1.06s/it]"
     ]
    },
    {
     "name": "stdout",
     "output_type": "stream",
     "text": [
      "b'the vaccine rule for private employers is separate from other vaccine mandates announced by the biden administration that apply to federal government contractors and workers in health care facilities   news covid politics'\n",
      "['covid', 'negative', 'positive']\n",
      "[0.8688329458236694, 0.11951412260532379, 0.10715083032846451]\n",
      "\n",
      "\n"
     ]
    },
    {
     "name": "stderr",
     "output_type": "stream",
     "text": [
      "100%|██████████| 50/50 [00:56<00:00,  1.13s/it]"
     ]
    },
    {
     "name": "stdout",
     "output_type": "stream",
     "text": [
      "b'pre-flight covid testing a dizzying mess? let  help you wade through with our \"booking concierge\\xe2\\x80\\x9d service  travel covid covidtesting pcrtest delta businesstravelers travelinsurance hotels airbnb cybersecurity medtech jandj japan jabs \n",
      "['covid', 'negative', 'positive']\n",
      "[0.9501838088035583, 0.1465270072221756, 0.10073447972536087]\n",
      "\n",
      "\n"
     ]
    },
    {
     "name": "stderr",
     "output_type": "stream",
     "text": [
      "\n"
     ]
    },
    {
     "data": {
      "text/plain": [
       "<AxesSubplot:xlabel='labels', ylabel='values'>"
      ]
     },
     "execution_count": 11,
     "metadata": {},
     "output_type": "execute_result"
    },
    {
     "data": {
      "image/png": "[encoded data removed]",
      "text/plain": [
       "<Figure size 432x288 with 1 Axes>"
      ]
     },
     "metadata": {
      "needs_background": "light"
     },
     "output_type": "display_data"
    }
   ],
   "source": [
    "import matplotlib.pyplot as plt\n",
    "import seaborn as sns\n",
    "import pandas as pd\n",
    "import numpy as np\n",
    "import torch\n",
    "import html\n",
    "import re\n",
    "from transformers import pipeline\n",
    "from tqdm import tqdm\n",
    "from transformers import AutoTokenizer, AutoModelForSequenceClassification\n",
    "from transformers import BartTokenizer, BartModel\n",
    "from transformers import pipeline\n",
    "\n",
    "print('INITIALIZING DATA PROCESSING + CLEANING')\n",
    "\n",
    "try:\n",
    "    user_csv = input('Please input the exact name of the CSV file you wish to analyze: ')\n",
    "    tweet_column = input('Please input the name of the column containing the tweets: ')\n",
    "    tweet_column_with_quotes = \"'\" + tweet_column + \"'\"\n",
    "\n",
    "    dataframe = pd.read_csv(user_csv, delimiter=',',encoding='utf-8', header = 0)\n",
    "    pd.set_option('display.max_colwidth', None)\n",
    "    dataframe.rename(columns={tweet_column:'tweet'}) #renaming the tweet column to 'tweet'\n",
    "\n",
    "except FileNotFoundError:\n",
    "    print('There was an error finding the CSV you requested, please check the following:','\\n', '1. The CSV file is in the correct directory', '\\n', '2. You gave the correct name of the file, following the syntax: yourfilename.csv')\n",
    "\n",
    "\n",
    "df_copy = dataframe.copy() #creating a copy of the dataframe\n",
    "df_copy['tweet'] = df_copy['tweet'].str.lower() #making everything lower case\n",
    "df_copy.drop_duplicates(subset='tweet', keep='first', inplace=True, ignore_index=False) #removing duplicates\n",
    "df_copy[~df_copy.tweet.str.startswith('rt')] #removing retweets\n",
    "df_copy['tweet'] = df_copy['tweet'].apply(lambda k: html.unescape(str(k))) #removing unnecessary characters\n",
    "\n",
    "def clean_text(text):\n",
    "    text = re.sub(r'@[A-Za-z0-9]+', '', text) #Removed mentions\n",
    "    text = re.sub(r'#', '', text) #Removed hashtags\n",
    "    text = re.sub(r'https?:\\/\\/\\S+', '', text) #Remove the hyperlink\n",
    "    text = re.sub(r'\\'[\\s]+', '', text) #Remove apostrophe\n",
    "    text = re.sub(r'\\...+', '', text) #Remove dots\n",
    "    text = re.sub(r'\\!', '', text) #Remove exclamation  marks\n",
    "\n",
    "    return text\n",
    "\n",
    "df_copy['tweet'] = df_copy['tweet'].apply(clean_text)\n",
    "\n",
    "df_copy.to_csv('Cleaned_Data.csv')\n",
    "\n",
    "print('\\n','DATA PROCESSING + CLEANING COMPLETE', '\\n')\n",
    "print('INITIALIZING DATA ANALYSIS')\n",
    "\n",
    "print('The standard model being used is Valhalla, an optimized version of the Bart Large pretrained analysis model providing faster results.', '\\n', 'If you have not used it before, it may take a while to download as it is quite large.','\\n')\n",
    "\n",
    "model = input('If you wish to use Bart Large instead, type y.')\n",
    "\n",
    "if model == 'y':\n",
    "    tokenizer = BartTokenizer.from_pretrained('facebook/bart-large')\n",
    "    model = BartModel.from_pretrained('facebook/bart-large')\n",
    "else:\n",
    "    tokenizer = AutoTokenizer.from_pretrained(\"valhalla/distilbart-mnli-12-1\")\n",
    "    model = AutoModelForSequenceClassification.from_pretrained(\"valhalla/distilbart-mnli-12-1\", device = -1)\n",
    "\n",
    "try:\n",
    "    classifier = pipeline(\"zero-shot-classification\", model = model, tokenizer = tokenizer, device = -1) #classifier = pipeline(task='zero-shot-classification', model=model, tokenizer=tokenizer, framework='pt')\n",
    "except RuntimeError:\n",
    "    print(\"A runtime error occurred, check if tensorflow and pytorch are correctly installed, need to be version >= 2\")\n",
    "\n",
    "df_original  = pd.read_csv(r'Cleaned_Data.csv')\n",
    "rows = df_original['tweet'].count()\n",
    "\n",
    "try:\n",
    "    number_of_rows = int(input(f'Please specify the number of rows you wish to analyze, in your current dataset, there are {rows} rows of tweets, if you wish to look at them all, input any non-numerical character'))\n",
    "    df_name = df_original.head(number_of_rows)\n",
    "except ValueError:\n",
    "    df_name = df_original\n",
    "\n",
    "candidate_labels = []\n",
    "candidate_results = []\n",
    "\n",
    "def approval():\n",
    "    candidate_labels = []\n",
    "    labels = input('Please specify the lables you wish to analyze the tweets with, type \"done\" once you have inputted the ones you wish to use')\n",
    "\n",
    "    while labels != 'done':\n",
    "        candidate_labels.append(labels)\n",
    "        labels = input('Please specify the lables you wish to analyze the tweets with, type \"done\" once you have inputted the ones you wish to use')\n",
    "    \n",
    "    print(f'{candidate_labels}')\n",
    "    print('\\n')\n",
    "    approved = input('Are these labels correct? if so, type \"y\", if not, type any other character')\n",
    "\n",
    "    if approved != \"y\":\n",
    "        approval()\n",
    "    else:\n",
    "        print('APPRPOVED, INITALIZING TWEET ANALYSIS', '\\n')\n",
    "    return candidate_labels\n",
    "\n",
    "candidate_labels = approval()\n",
    "print(candidate_labels)\n",
    "\n",
    "for x in range(len(candidate_labels)):\n",
    "    candidate_results.append(0)\n",
    "\n",
    "for sent in tqdm(df_name['tweet'].values):\n",
    "        \n",
    "    res = classifier(sent, candidate_labels, multi_label = True) #change multilabel to True for different results\n",
    "\n",
    "    for i in range(len(candidate_labels)):\n",
    "      if res['labels'][0] == candidate_labels[i] and res['scores'][0] > 0.5:\n",
    "          candidate_results[i] = candidate_results[i] + 1\n",
    "\n",
    "    if res['scores'][0] > 0.5: #the code below this can be removed if you do not wish to have all of the results printed (might be useful for when the program is actually implemented)\n",
    "        print(sent)\n",
    "        print(res['labels'])\n",
    "        print(res['scores'])\n",
    "        print('\\n')\n",
    "\n",
    "data = {'labels': candidate_labels, 'values': candidate_results}\n",
    "df_frequency = pd.DataFrame(data, columns=['labels', 'values'])\n",
    "df_frequency.head()\n",
    "sns.barplot(data = df_frequency, x = 'labels', y = 'values')"
   ]
  },
  {
   "cell_type": "code",
   "execution_count": 1,
   "metadata": {},
   "outputs": [
    {
     "name": "stdout",
     "output_type": "stream",
     "text": [
      "INITIALIZING DATA PROCESSING + CLEANING\n",
      "                     Timestamp          location  \\\n",
      "0    2021-12-18 10:50:01+00:00               NaN   \n",
      "1    2021-12-18 10:50:00+00:00          Kent, UK   \n",
      "2    2021-12-18 10:48:18+00:00   Česká republika   \n",
      "3    2021-12-18 10:48:12+00:00               NaN   \n",
      "4    2021-12-18 10:48:00+00:00     London, Paris   \n",
      "..                         ...               ...   \n",
      "495  2021-12-18 08:12:48+00:00     United States   \n",
      "496  2021-12-18 08:12:17+00:00   Los Angeles, CA   \n",
      "497  2021-12-18 08:11:36+00:00      Here and Now   \n",
      "498  2021-12-18 08:11:16+00:00   Bangalore India   \n",
      "499  2021-12-18 08:11:00+00:00  Faaborg, Denmark   \n",
      "\n",
      "                                                                                                                                                                                                                                                                                                                                                                                     tweet  \\\n",
      "0                                                                                                  b'$7.99 Standup Comedy career launching 5 star workbook- Gift your funny friend or family member this unique gift! Purchase Link: https://t.co/rm1x1x5lvO C https://t.co/dyO7DW6hA5 #washingtondc #az #phoenix #nj #texas #nurses #doctors #walterreed #va #vahospital #surgery #covid'   \n",
      "1                                                                                                                                                                                                                                                                                  b'NEWS: The EFL say 25% of players are not vaccinated against #Covid #kmfmnews https://t.co/XGk3aNmFsn'   \n",
      "2                                                                                                                                                                                                                                                                                          b'#Covid: Action needed to limit hospital admissions - Sage scientists https://t.co/m7l5F0Efkb'   \n",
      "3                                                                                                                                                                                                                                      b\"Meanwhile in #Ireland #covid Virus is very dangerous after 8pm. Before that it's less dangerous. https://t.co/PKQy47mJ84 https://t.co/4ka7uAAXu6\"   \n",
      "4                                                                                                                                                                     b'Triple vaccinated \\xf0\\x9f\\xa6\\xb8\\xf0\\x9f\\x8f\\xbb\\xe2\\x80\\x8d\\xe2\\x99\\x80\\xef\\xb8\\x8f\\xf0\\x9f\\x92\\xaa  Feeling the power growing in my veins \\xf0\\x9f\\xa4\\xaa\\xf0\\x9f\\x99\\x88  #GetVaccinated #vaccinated #Covid'   \n",
      "..                                                                                                                                                                                                                                                                                                                                                                                     ...   \n",
      "495                                                                                                                                                                           b'Uncertainty, Fatigue, Dread: Another COVID Wave Is Coming https://t.co/oSXXUZG0Og via @davidmackau #DemVoice1 #Biden #Covid_19 #COVID #capitolhill #democrats #CDC #NIH #BREAKING #BreakingNews #pandemic'   \n",
      "496                                                                                                                    b'Growth in 7D US Confirmed Covid Deaths by County For SC   2021-12-13:  Covid Insights From Our Analytics Team and USAFacts #datavisualization #datascience #analytics #health #data #covid19 #publichealth #covid #omicron #globalhealth https://t.co/cw2DFb4rYv'   \n",
      "497                                                                                                                                                                                                                     b'Bitcoin, Ethereum, Dogecoin shares fall in value; know why https://t.co/3GLplgRyfC #bitcoin #covid #DigitalAssets #Ethereum #investment https://t.co/xRVvRkLoYd'   \n",
      "498                                                                                                 b'International Migrants Day is celebrated on 18 December to raise awareness about the protection of migrants and refugees #migrants #refugees #covid #migration #immigration #coronavirus #migrant #lockdown #humanrights #migrantworkers #india #immigrants https://t.co/WUswedkeWf'   \n",
      "499  b'#Informeret today   More #COVID19 restrictions and closures in \\xf0\\x9f\\x87\\xa9\\xf0\\x9f\\x87\\xb0  #Omicron cases \\xf0\\x9f\\x9a\\x80 upward  Fears \\xf0\\x9f\\x87\\xa9\\xf0\\x9f\\x87\\xb0 hospitals could be overwhelmed mount  Alcohol sales curtailed  \\xf0\\x9f\\x98\\xb7 mandates expanded  And another day of record high #COVID numbers   Subscribe &amp; Share   https://t.co/GKwIcvfgMq'   \n",
      "\n",
      "               username  \\\n",
      "0    b'MilwaukeeHotBuy'   \n",
      "1           b'kmfmnews'   \n",
      "2          b'zpravy_24'   \n",
      "3          b'Ettel_wen'   \n",
      "4    b'AudreyLebrellec'   \n",
      "..                  ...   \n",
      "495  b'JohnKevinLucke1'   \n",
      "496   b'njoyflyfishing'   \n",
      "497  b'luisgdelafuente'   \n",
      "498  b'LovdaleFoundatn'   \n",
      "499     b'WoodfordinDK'   \n",
      "\n",
      "                                                                                                                                                    all_hashtags  \\\n",
      "0                                    ['washingtondc', 'az', 'phoenix', 'nj', 'texas', 'nurses', 'doctors', 'walterreed', 'va', 'vahospital', 'surgery', 'covid']   \n",
      "1                                                                                                                                          ['Covid', 'kmfmnews']   \n",
      "2                                                                                                                                                      ['Covid']   \n",
      "3                                                                                                                                           ['Ireland', 'covid']   \n",
      "4                                                                                                                       ['GetVaccinated', 'vaccinated', 'Covid']   \n",
      "..                                                                                                                                                           ...   \n",
      "495                                ['DemVoice1', 'Biden', 'Covid_19', 'COVID', 'capitolhill', 'democrats', 'CDC', 'NIH', 'BREAKING', 'BreakingNews', 'pandemic']   \n",
      "496                           ['datavisualization', 'datascience', 'analytics', 'health', 'data', 'covid19', 'publichealth', 'covid', 'omicron', 'globalhealth']   \n",
      "497                                                                                              ['bitcoin', 'covid', 'DigitalAssets', 'Ethereum', 'investment']   \n",
      "498  ['migrants', 'refugees', 'covid', 'migration', 'immigration', 'coronavirus', 'migrant', 'lockdown', 'humanrights', 'migrantworkers', 'india', 'immigrants']   \n",
      "499                                                                                                                ['Informeret', 'COVID19', 'Omicron', 'COVID']   \n",
      "\n",
      "     followers_count  \n",
      "0               2039  \n",
      "1              20760  \n",
      "2                 23  \n",
      "3                337  \n",
      "4               6669  \n",
      "..               ...  \n",
      "495               45  \n",
      "496               33  \n",
      "497             1461  \n",
      "498               42  \n",
      "499            13664  \n",
      "\n",
      "[500 rows x 6 columns]\n",
      "                     Timestamp          location  \\\n",
      "0    2021-12-18 10:50:01+00:00               NaN   \n",
      "1    2021-12-18 10:50:00+00:00          Kent, UK   \n",
      "2    2021-12-18 10:48:18+00:00   Česká republika   \n",
      "3    2021-12-18 10:48:12+00:00               NaN   \n",
      "4    2021-12-18 10:48:00+00:00     London, Paris   \n",
      "..                         ...               ...   \n",
      "495  2021-12-18 08:12:48+00:00     United States   \n",
      "496  2021-12-18 08:12:17+00:00   Los Angeles, CA   \n",
      "497  2021-12-18 08:11:36+00:00      Here and Now   \n",
      "498  2021-12-18 08:11:16+00:00   Bangalore India   \n",
      "499  2021-12-18 08:11:00+00:00  Faaborg, Denmark   \n",
      "\n",
      "                                                                                                                                                                                                                                                                                                                                                                                     tweet  \\\n",
      "0                                                                                                  b'$7.99 Standup Comedy career launching 5 star workbook- Gift your funny friend or family member this unique gift! Purchase Link: https://t.co/rm1x1x5lvO C https://t.co/dyO7DW6hA5 #washingtondc #az #phoenix #nj #texas #nurses #doctors #walterreed #va #vahospital #surgery #covid'   \n",
      "1                                                                                                                                                                                                                                                                                  b'NEWS: The EFL say 25% of players are not vaccinated against #Covid #kmfmnews https://t.co/XGk3aNmFsn'   \n",
      "2                                                                                                                                                                                                                                                                                          b'#Covid: Action needed to limit hospital admissions - Sage scientists https://t.co/m7l5F0Efkb'   \n",
      "3                                                                                                                                                                                                                                      b\"Meanwhile in #Ireland #covid Virus is very dangerous after 8pm. Before that it's less dangerous. https://t.co/PKQy47mJ84 https://t.co/4ka7uAAXu6\"   \n",
      "4                                                                                                                                                                     b'Triple vaccinated \\xf0\\x9f\\xa6\\xb8\\xf0\\x9f\\x8f\\xbb\\xe2\\x80\\x8d\\xe2\\x99\\x80\\xef\\xb8\\x8f\\xf0\\x9f\\x92\\xaa  Feeling the power growing in my veins \\xf0\\x9f\\xa4\\xaa\\xf0\\x9f\\x99\\x88  #GetVaccinated #vaccinated #Covid'   \n",
      "..                                                                                                                                                                                                                                                                                                                                                                                     ...   \n",
      "495                                                                                                                                                                           b'Uncertainty, Fatigue, Dread: Another COVID Wave Is Coming https://t.co/oSXXUZG0Og via @davidmackau #DemVoice1 #Biden #Covid_19 #COVID #capitolhill #democrats #CDC #NIH #BREAKING #BreakingNews #pandemic'   \n",
      "496                                                                                                                    b'Growth in 7D US Confirmed Covid Deaths by County For SC   2021-12-13:  Covid Insights From Our Analytics Team and USAFacts #datavisualization #datascience #analytics #health #data #covid19 #publichealth #covid #omicron #globalhealth https://t.co/cw2DFb4rYv'   \n",
      "497                                                                                                                                                                                                                     b'Bitcoin, Ethereum, Dogecoin shares fall in value; know why https://t.co/3GLplgRyfC #bitcoin #covid #DigitalAssets #Ethereum #investment https://t.co/xRVvRkLoYd'   \n",
      "498                                                                                                 b'International Migrants Day is celebrated on 18 December to raise awareness about the protection of migrants and refugees #migrants #refugees #covid #migration #immigration #coronavirus #migrant #lockdown #humanrights #migrantworkers #india #immigrants https://t.co/WUswedkeWf'   \n",
      "499  b'#Informeret today   More #COVID19 restrictions and closures in \\xf0\\x9f\\x87\\xa9\\xf0\\x9f\\x87\\xb0  #Omicron cases \\xf0\\x9f\\x9a\\x80 upward  Fears \\xf0\\x9f\\x87\\xa9\\xf0\\x9f\\x87\\xb0 hospitals could be overwhelmed mount  Alcohol sales curtailed  \\xf0\\x9f\\x98\\xb7 mandates expanded  And another day of record high #COVID numbers   Subscribe &amp; Share   https://t.co/GKwIcvfgMq'   \n",
      "\n",
      "               username  \\\n",
      "0    b'MilwaukeeHotBuy'   \n",
      "1           b'kmfmnews'   \n",
      "2          b'zpravy_24'   \n",
      "3          b'Ettel_wen'   \n",
      "4    b'AudreyLebrellec'   \n",
      "..                  ...   \n",
      "495  b'JohnKevinLucke1'   \n",
      "496   b'njoyflyfishing'   \n",
      "497  b'luisgdelafuente'   \n",
      "498  b'LovdaleFoundatn'   \n",
      "499     b'WoodfordinDK'   \n",
      "\n",
      "                                                                                                                                                    all_hashtags  \\\n",
      "0                                    ['washingtondc', 'az', 'phoenix', 'nj', 'texas', 'nurses', 'doctors', 'walterreed', 'va', 'vahospital', 'surgery', 'covid']   \n",
      "1                                                                                                                                          ['Covid', 'kmfmnews']   \n",
      "2                                                                                                                                                      ['Covid']   \n",
      "3                                                                                                                                           ['Ireland', 'covid']   \n",
      "4                                                                                                                       ['GetVaccinated', 'vaccinated', 'Covid']   \n",
      "..                                                                                                                                                           ...   \n",
      "495                                ['DemVoice1', 'Biden', 'Covid_19', 'COVID', 'capitolhill', 'democrats', 'CDC', 'NIH', 'BREAKING', 'BreakingNews', 'pandemic']   \n",
      "496                           ['datavisualization', 'datascience', 'analytics', 'health', 'data', 'covid19', 'publichealth', 'covid', 'omicron', 'globalhealth']   \n",
      "497                                                                                              ['bitcoin', 'covid', 'DigitalAssets', 'Ethereum', 'investment']   \n",
      "498  ['migrants', 'refugees', 'covid', 'migration', 'immigration', 'coronavirus', 'migrant', 'lockdown', 'humanrights', 'migrantworkers', 'india', 'immigrants']   \n",
      "499                                                                                                                ['Informeret', 'COVID19', 'Omicron', 'COVID']   \n",
      "\n",
      "     followers_count  \n",
      "0               2039  \n",
      "1              20760  \n",
      "2                 23  \n",
      "3                337  \n",
      "4               6669  \n",
      "..               ...  \n",
      "495               45  \n",
      "496               33  \n",
      "497             1461  \n",
      "498               42  \n",
      "499            13664  \n",
      "\n",
      "[500 rows x 6 columns]\n",
      "0                                                                                                    b'$7.99 standup comedy career launching 5 star workbook- gift your funny friend or family member this unique gift! purchase link: https://t.co/rm1x1x5lvo c https://t.co/dyo7dw6ha5 #washingtondc #az #phoenix #nj #texas #nurses #doctors #walterreed #va #vahospital #surgery #covid'\n",
      "1                                                                                                                                                                                                                                                                                    b'news: the efl say 25% of players are not vaccinated against #covid #kmfmnews https://t.co/xgk3anmfsn'\n",
      "2                                                                                                                                                                                                                                                                                            b'#covid: action needed to limit hospital admissions - sage scientists https://t.co/m7l5f0efkb'\n",
      "3                                                                                                                                                                                                                                        b\"meanwhile in #ireland #covid virus is very dangerous after 8pm. before that it's less dangerous. https://t.co/pkqy47mj84 https://t.co/4ka7uaaxu6\"\n",
      "4                                                                                                                                                                       b'triple vaccinated \\xf0\\x9f\\xa6\\xb8\\xf0\\x9f\\x8f\\xbb\\xe2\\x80\\x8d\\xe2\\x99\\x80\\xef\\xb8\\x8f\\xf0\\x9f\\x92\\xaa  feeling the power growing in my veins \\xf0\\x9f\\xa4\\xaa\\xf0\\x9f\\x99\\x88  #getvaccinated #vaccinated #covid'\n",
      "                                                                                                                                                                                               ...                                                                                                                                                                                          \n",
      "495                                                                                                                                                                             b'uncertainty, fatigue, dread: another covid wave is coming https://t.co/osxxuzg0og via @davidmackau #demvoice1 #biden #covid_19 #covid #capitolhill #democrats #cdc #nih #breaking #breakingnews #pandemic'\n",
      "496                                                                                                                      b'growth in 7d us confirmed covid deaths by county for sc   2021-12-13:  covid insights from our analytics team and usafacts #datavisualization #datascience #analytics #health #data #covid19 #publichealth #covid #omicron #globalhealth https://t.co/cw2dfb4ryv'\n",
      "497                                                                                                                                                                                                                       b'bitcoin, ethereum, dogecoin shares fall in value; know why https://t.co/3glplgryfc #bitcoin #covid #digitalassets #ethereum #investment https://t.co/xrvvrkloyd'\n",
      "498                                                                                                   b'international migrants day is celebrated on 18 december to raise awareness about the protection of migrants and refugees #migrants #refugees #covid #migration #immigration #coronavirus #migrant #lockdown #humanrights #migrantworkers #india #immigrants https://t.co/wuswedkewf'\n",
      "499    b'#informeret today   more #covid19 restrictions and closures in \\xf0\\x9f\\x87\\xa9\\xf0\\x9f\\x87\\xb0  #omicron cases \\xf0\\x9f\\x9a\\x80 upward  fears \\xf0\\x9f\\x87\\xa9\\xf0\\x9f\\x87\\xb0 hospitals could be overwhelmed mount  alcohol sales curtailed  \\xf0\\x9f\\x98\\xb7 mandates expanded  and another day of record high #covid numbers   subscribe &amp; share   https://t.co/gkwicvfgmq'\n",
      "Name: tweet, Length: 500, dtype: object\n",
      "\n",
      " DATA PROCESSING + CLEANING COMPLETE \n",
      "\n",
      "INITIALIZING DATA ANALYSIS\n",
      "The standard model being used is Valhalla, an optimized version of the Bart Large pretrained analysis model providing faster results. \n",
      " If you have not used it before, it may take a while to download as it is quite large. \n",
      "\n",
      "['covid', 'negative', 'positive']\n",
      "\n",
      "\n",
      "APPRPOVED, INITALIZING TWEET ANALYSIS \n",
      "\n",
      "['covid', 'negative', 'positive']\n"
     ]
    },
    {
     "name": "stderr",
     "output_type": "stream",
     "text": [
      "  5%|▌         | 1/20 [00:01<00:32,  1.69s/it]"
     ]
    },
    {
     "name": "stdout",
     "output_type": "stream",
     "text": [
      "b'$799 standup comedy career launching 5 star workbook- gift your funny friend or family member this unique gift purchase link:  c  washingtondc az phoenix nj texas nurses doctors walterreed va vahospital surgery covid'\n",
      "['covid', 'positive', 'negative']\n",
      "[0.9273540377616882, 0.41873201727867126, 0.0016402716282755136]\n",
      "\n",
      "\n"
     ]
    },
    {
     "name": "stderr",
     "output_type": "stream",
     "text": [
      " 10%|█         | 2/20 [00:02<00:21,  1.20s/it]"
     ]
    },
    {
     "name": "stdout",
     "output_type": "stream",
     "text": [
      "b'news: the efl say 25% of players are not vaccinated against covid kmfmnews \n",
      "['negative', 'covid', 'positive']\n",
      "[0.7195845246315002, 0.6063669919967651, 0.0031882126349955797]\n",
      "\n",
      "\n"
     ]
    },
    {
     "name": "stderr",
     "output_type": "stream",
     "text": [
      " 15%|█▌        | 3/20 [00:03<00:16,  1.01it/s]"
     ]
    },
    {
     "name": "stdout",
     "output_type": "stream",
     "text": [
      "b'covid: action needed to limit hospital admissions - sage scientists \n",
      "['covid', 'negative', 'positive']\n",
      "[0.6725738048553467, 0.5269215106964111, 0.23183830082416534]\n",
      "\n",
      "\n"
     ]
    },
    {
     "name": "stderr",
     "output_type": "stream",
     "text": [
      " 20%|██        | 4/20 [00:04<00:15,  1.04it/s]"
     ]
    },
    {
     "name": "stdout",
     "output_type": "stream",
     "text": [
      "b\"meanwhile in ireland covid virus is very dangerous after 8pm before that it's less dangerous  \n",
      "['covid', 'negative', 'positive']\n",
      "[0.9008359909057617, 0.7013845443725586, 0.014535023830831051]\n",
      "\n",
      "\n"
     ]
    },
    {
     "name": "stderr",
     "output_type": "stream",
     "text": [
      " 25%|██▌       | 5/20 [00:07<00:26,  1.78s/it]"
     ]
    },
    {
     "name": "stdout",
     "output_type": "stream",
     "text": [
      "b'triple vaccinated \\xf0\\x9f\\xa6\\xb8\\xf0\\x9f\\x8f\\xbb\\xe2\\x80\\x8d\\xe2\\x99\\x80\\xef\\xb8\\x8f\\xf0\\x9f\\x92\\xaa  feeling the power growing in my veins \\xf0\\x9f\\xa4\\xaa\\xf0\\x9f\\x99\\x88  getvaccinated vaccinated covid'\n",
      "['covid', 'positive', 'negative']\n",
      "[0.964379608631134, 0.8170974850654602, 0.15723785758018494]\n",
      "\n",
      "\n"
     ]
    },
    {
     "name": "stderr",
     "output_type": "stream",
     "text": [
      " 30%|███       | 6/20 [00:08<00:22,  1.61s/it]"
     ]
    },
    {
     "name": "stdout",
     "output_type": "stream",
     "text": [
      "b\"la's also playing the omicrondeltablues: los angeles county is seeing the highest number of daily covid-19 cases in four months (abc7) \n",
      "['negative', 'covid', 'positive']\n",
      "[0.6952006220817566, 0.6618661284446716, 0.0013968219282105565]\n",
      "\n",
      "\n"
     ]
    },
    {
     "name": "stderr",
     "output_type": "stream",
     "text": [
      " 35%|███▌      | 7/20 [00:11<00:24,  1.88s/it]"
     ]
    },
    {
     "name": "stdout",
     "output_type": "stream",
     "text": [
      "b'omicron covid i\\xe2\\x80\\x99ve just been told by testandtrace that if it is the omicron variant that they will contact you twice at present my notes do not have omicron on them also it\\xe2\\x80\\x99s a 14 day infection, so i could have picked it up at work or when i went to hospital'\n",
      "['covid', 'negative', 'positive']\n",
      "[0.9805971384048462, 0.24216341972351074, 0.012036867439746857]\n",
      "\n",
      "\n"
     ]
    },
    {
     "name": "stderr",
     "output_type": "stream",
     "text": [
      " 40%|████      | 8/20 [00:12<00:20,  1.74s/it]"
     ]
    },
    {
     "name": "stdout",
     "output_type": "stream",
     "text": [
      "b'it is so unfortunate that this is going to happen as we head into the third winter of covid however we must think about what these rapidly rising cases not just do to patients but to our healthcare systems and staff \n",
      "['negative', 'covid', 'positive']\n",
      "[0.9568979740142822, 0.9096902012825012, 0.00018119026208296418]\n",
      "\n",
      "\n"
     ]
    },
    {
     "name": "stderr",
     "output_type": "stream",
     "text": [
      " 45%|████▌     | 9/20 [00:14<00:19,  1.74s/it]"
     ]
    },
    {
     "name": "stdout",
     "output_type": "stream",
     "text": [
      "b'paddy power in his d4 jumper \\xe2\\x80\\x9ci\\xe2\\x80\\x99ve had more vaccines than nights out\\xe2\\x80\\x9d\\xc2\\xa0covid-19 \n",
      "['covid', 'negative', 'positive']\n",
      "[0.9234002828598022, 0.20050708949565887, 0.13461603224277496]\n",
      "\n",
      "\n"
     ]
    },
    {
     "name": "stderr",
     "output_type": "stream",
     "text": [
      " 50%|█████     | 10/20 [00:15<00:15,  1.60s/it]"
     ]
    },
    {
     "name": "stdout",
     "output_type": "stream",
     "text": [
      "b'a bit like all the fear and hysteria being whipped up about covid and vacinnepassports \\xf0\\x9f\\x98\\x8f \n",
      "['negative', 'covid', 'positive']\n",
      "[0.5454208850860596, 0.05468060448765755, 0.0002922392450273037]\n",
      "\n",
      "\n"
     ]
    },
    {
     "name": "stderr",
     "output_type": "stream",
     "text": [
      " 55%|█████▌    | 11/20 [00:16<00:12,  1.34s/it]"
     ]
    },
    {
     "name": "stdout",
     "output_type": "stream",
     "text": [
      "b'no sh covid is seasonal, who could have know??? srcsm \n",
      "['covid', 'negative', 'positive']\n",
      "[0.6959219574928284, 0.16626030206680298, 0.0015627957182005048]\n",
      "\n",
      "\n"
     ]
    },
    {
     "name": "stderr",
     "output_type": "stream",
     "text": [
      " 60%|██████    | 12/20 [00:17<00:10,  1.31s/it]"
     ]
    },
    {
     "name": "stdout",
     "output_type": "stream",
     "text": [
      "b'give us your best covid christmas carols:  omicron all ye faithful oh lateral flow of bethlehem  anothercovidchristmas'\n",
      "['covid', 'positive', 'negative']\n",
      "[0.7891451716423035, 0.13971634209156036, 0.0010127630084753036]\n",
      "\n",
      "\n"
     ]
    },
    {
     "name": "stderr",
     "output_type": "stream",
     "text": [
      " 65%|██████▌   | 13/20 [00:18<00:08,  1.17s/it]"
     ]
    },
    {
     "name": "stdout",
     "output_type": "stream",
     "text": [
      "b'save lives do not drink and drive   safefestive covid-19 \n",
      "['covid', 'positive', 'negative']\n",
      "[0.6387516260147095, 0.2408214509487152, 0.023562628775835037]\n",
      "\n",
      "\n"
     ]
    },
    {
     "name": "stderr",
     "output_type": "stream",
     "text": [
      " 70%|███████   | 14/20 [00:19<00:07,  1.23s/it]"
     ]
    },
    {
     "name": "stdout",
     "output_type": "stream",
     "text": [
      "b'the national football league (nfl) postponed three games this weekend because of covid-19 outbreaks  nationalfootballleague coronavirus covid_19 covid19   read:  \n",
      "['negative', 'covid', 'positive']\n",
      "[0.6930001974105835, 0.44998008012771606, 0.0017961276462301612]\n",
      "\n",
      "\n"
     ]
    },
    {
     "name": "stderr",
     "output_type": "stream",
     "text": [
      " 75%|███████▌  | 15/20 [00:21<00:07,  1.46s/it]"
     ]
    },
    {
     "name": "stdout",
     "output_type": "stream",
     "text": [
      "b'at some point, these folks should end up in jail starting with fauci and daszak   yet we are still arguing with each other while these criminals are still being asked what we should do the two that are responsible (as more evidence shows us) are making the rules   covid \n",
      "['negative', 'covid', 'positive']\n",
      "[0.8448957800865173, 0.7758967876434326, 0.0024324171245098114]\n",
      "\n",
      "\n"
     ]
    },
    {
     "name": "stderr",
     "output_type": "stream",
     "text": [
      " 80%|████████  | 16/20 [00:24<00:07,  1.85s/it]"
     ]
    },
    {
     "name": "stdout",
     "output_type": "stream",
     "text": [
      "b'remember: if you\\xe2\\x80\\x99re wearing a facecovering, covid can\\xe2\\x80\\x99t enter your body via your chin \\xf0\\x9f\\xa4\\xa6\\xf0\\x9f\\x8f\\xbb\\xe2\\x80\\x8d\\xe2\\x99\\x82\\xef\\xb8\\x8f \n",
      "['covid', 'negative', 'positive']\n",
      "[0.8810495734214783, 0.3096586763858795, 0.027602503076195717]\n",
      "\n",
      "\n"
     ]
    },
    {
     "name": "stderr",
     "output_type": "stream",
     "text": [
      " 85%|████████▌ | 17/20 [00:25<00:05,  1.72s/it]"
     ]
    },
    {
     "name": "stdout",
     "output_type": "stream",
     "text": [
      "b'now is the time to get your booster vaccine and get into a routine of daily vitamin intake - covid omicron flu publichealth healthcare nhs\\xf0\\x9f\\x92\\x99 \n",
      "['covid', 'positive', 'negative']\n",
      "[0.5975480675697327, 0.03787647932767868, 0.007845061831176281]\n",
      "\n",
      "\n"
     ]
    },
    {
     "name": "stderr",
     "output_type": "stream",
     "text": [
      " 90%|█████████ | 18/20 [00:26<00:02,  1.46s/it]"
     ]
    },
    {
     "name": "stdout",
     "output_type": "stream",
     "text": [
      "b'\"huge numbers of people getting sick all at once will alter everyday reality\"omicron covid  \n",
      "['covid', 'negative', 'positive']\n",
      "[0.9423156976699829, 0.4753589332103729, 0.010571897961199284]\n",
      "\n",
      "\n"
     ]
    },
    {
     "name": "stderr",
     "output_type": "stream",
     "text": [
      " 95%|█████████▌| 19/20 [00:27<00:01,  1.29s/it]"
     ]
    },
    {
     "name": "stdout",
     "output_type": "stream",
     "text": [
      "b'3 dead in karachi blast  covid internationalnews newsfeed breakingnews breaking wewantjustice'\n",
      "['covid', 'negative', 'positive']\n",
      "[0.9800358414649963, 0.20018421113491058, 0.001947790035046637]\n",
      "\n",
      "\n"
     ]
    },
    {
     "name": "stderr",
     "output_type": "stream",
     "text": [
      "100%|██████████| 20/20 [00:29<00:00,  1.46s/it]"
     ]
    },
    {
     "name": "stdout",
     "output_type": "stream",
     "text": [
      "b'morrison is like the tinman without a heart in the wizard of oz except the tinman wished that he had a heart morrison just doesn\\xe2\\x80\\x99t care covid asylumseekers women'\n",
      "['negative', 'covid', 'positive']\n",
      "[0.7731471657752991, 0.39154738187789917, 0.0011527641909196973]\n",
      "\n",
      "\n"
     ]
    },
    {
     "name": "stderr",
     "output_type": "stream",
     "text": [
      "\n"
     ]
    },
    {
     "data": {
      "text/plain": [
       "<AxesSubplot:xlabel='labels', ylabel='values'>"
      ]
     },
     "execution_count": 1,
     "metadata": {},
     "output_type": "execute_result"
    },
    {
     "data": {
      "image/png": "[encoded data removed]",
      "text/plain": [
       "<Figure size 432x288 with 1 Axes>"
      ]
     },
     "metadata": {
      "needs_background": "light"
     },
     "output_type": "display_data"
    }
   ],
   "source": [
    "#THIS VERSION IS NOT FUNCITONING CORRECTLY\n",
    "\n",
    "import matplotlib.pyplot as plt\n",
    "import seaborn as sns\n",
    "import pandas as pd\n",
    "import numpy as np\n",
    "import torch\n",
    "import html\n",
    "import re\n",
    "from transformers import pipeline\n",
    "from tqdm import tqdm\n",
    "from transformers import AutoTokenizer, AutoModelForSequenceClassification\n",
    "from transformers import BartTokenizer, BartModel\n",
    "from transformers import pipeline\n",
    "\n",
    "print('INITIALIZING DATA PROCESSING + CLEANING')\n",
    "\n",
    "try:\n",
    "    user_csv = input('Please input the exact name of the CSV file you wish to analyze: ')\n",
    "    tweet_column = input('Please input the name of the column containing the tweets: ')\n",
    "    tweet_column_with_quotes = \"'\" + tweet_column + \"'\"\n",
    "\n",
    "    dataframe = pd.read_csv(user_csv, delimiter=',',encoding='utf-8', header = 0)\n",
    "    pd.set_option('display.max_colwidth', None)\n",
    "    print(dataframe)\n",
    "    dataframe.rename({tweet_column_with_quotes:'tweet'}, axis = 1, inplace = True) #why the fuck doesn't renaming this actually work?!?!? it's pissing me off\n",
    "    print(dataframe)\n",
    "    \n",
    "except FileNotFoundError:\n",
    "    print('There was an error finding the CSV you requested, please check the following:','\\n', '1. The CSV file is in the correct directory', '\\n', '2. You gave the correct name of the file, following the syntax: yourfilename.csv')\n",
    "\n",
    "\n",
    "df_copy = dataframe.copy() #creating a copy of the dataframe\n",
    "df_copy['tweet'] = df_copy['tweet'].str.lower() #making everything lower case\n",
    "print(df_copy['tweet'])\n",
    "df_copy.drop_duplicates(subset='tweet', keep='first', inplace=True, ignore_index=False) #removing duplicates\n",
    "df_copy[~df_copy.tweet.str.startswith('rt')] #removing retweets\n",
    "df_copy['tweet'] = df_copy['tweet'].apply(lambda k: html.unescape(str(k))) #removing unnecessary characters\n",
    "\n",
    "def clean_text(text):\n",
    "    text = re.sub(r'@[A-Za-z0-9]+', '', text) #Removed mentions\n",
    "    text = re.sub(r'#', '', text) #Removed hashtags\n",
    "    text = re.sub(r'https?:\\/\\/\\S+', '', text) #Remove the hyperlink\n",
    "    text = re.sub(r'\\'[\\s]+', '', text) #Remove apostrophe\n",
    "    text = re.sub(r'[\\...+]', '', text) #Remove dots\n",
    "    text = re.sub(r'\\!', '', text) #Remove exclamation  marks\n",
    "\n",
    "    return text\n",
    "\n",
    "df_copy['tweet'] = df_copy['tweet'].apply(clean_text)\n",
    "\n",
    "df_copy.to_csv('Cleaned_Data.csv')\n",
    "\n",
    "print('\\n','DATA PROCESSING + CLEANING COMPLETE', '\\n')\n",
    "print('INITIALIZING DATA ANALYSIS')\n",
    "\n",
    "print('The standard model being used is Valhalla, an optimized version of the Bart Large pretrained analysis model providing faster results.', '\\n', 'If you have not used it before, it may take a while to download as it is quite large.','\\n')\n",
    "\n",
    "model = input('If you wish to use Bart Large instead, type y.')\n",
    "\n",
    "if model == 'y':\n",
    "    tokenizer = BartTokenizer.from_pretrained('facebook/bart-large')\n",
    "    model = BartModel.from_pretrained('facebook/bart-large')\n",
    "else:\n",
    "    tokenizer = AutoTokenizer.from_pretrained(\"valhalla/distilbart-mnli-12-1\")\n",
    "    model = AutoModelForSequenceClassification.from_pretrained(\"valhalla/distilbart-mnli-12-1\", device = -1)\n",
    "\n",
    "try:\n",
    "    classifier = pipeline(\"zero-shot-classification\", model = model, tokenizer = tokenizer, device = -1) #classifier = pipeline(task='zero-shot-classification', model=model, tokenizer=tokenizer, framework='pt')\n",
    "except RuntimeError:\n",
    "    print(\"A runtime error occurred, check if tensorflow and pytorch are correctly installed, need to be version >= 2\")\n",
    "\n",
    "df_original  = pd.read_csv(r'Cleaned_Data.csv')\n",
    "rows = df_original['tweet'].count()\n",
    "\n",
    "try:\n",
    "    number_of_rows = int(input(f'Please specify the number of rows you wish to analyze, in your current dataset, there are {rows} rows of tweets, if you wish to look at them all, input any non-numerical character'))\n",
    "    df_name = df_original.head(number_of_rows)\n",
    "except ValueError:\n",
    "    df_name = df_original\n",
    "\n",
    "candidate_labels = []\n",
    "candidate_results = []\n",
    "\n",
    "def approval():\n",
    "    candidate_labels = []\n",
    "    labels = input('Please specify the lables you wish to analyze the tweets with, type \"done\" once you have inputted the ones you wish to use')\n",
    "\n",
    "    while labels != 'done':\n",
    "        candidate_labels.append(labels)\n",
    "        labels = input('Please specify the lables you wish to analyze the tweets with, type \"done\" once you have inputted the ones you wish to use')\n",
    "    \n",
    "    print(f'{candidate_labels}')\n",
    "    print('\\n')\n",
    "    approved = input('Are these labels correct? if so, type \"y\", if not, type any other character')\n",
    "\n",
    "    if approved != \"y\":\n",
    "        approval()\n",
    "    else:\n",
    "        print('APPRPOVED, INITALIZING TWEET ANALYSIS', '\\n')\n",
    "    return candidate_labels\n",
    "\n",
    "candidate_labels = approval()\n",
    "print(candidate_labels)\n",
    "\n",
    "for x in range(len(candidate_labels)):\n",
    "    candidate_results.append(0)\n",
    "\n",
    "for sent in tqdm(df_name['tweet'].values):\n",
    "        \n",
    "    res = classifier(sent, candidate_labels, multi_label = True) #change multilabel to True for different results\n",
    "\n",
    "    for i in range(len(candidate_labels)):\n",
    "      if res['labels'][0] == candidate_labels[i] and res['scores'][0] > 0.5:\n",
    "          candidate_results[i] = candidate_results[i] + 1\n",
    "\n",
    "    if res['scores'][0] > 0.5: #the code below this can be removed if you do not wish to have all of the results printed (might be useful for when the program is actually implemented)\n",
    "        print(sent)\n",
    "        print(res['labels'])\n",
    "        print(res['scores'])\n",
    "        print('\\n')\n",
    "\n",
    "data = {'labels': candidate_labels, 'values': candidate_results}\n",
    "df_frequency = pd.DataFrame(data, columns=['labels', 'values'])\n",
    "df_frequency.head()\n",
    "sns.barplot(data = df_frequency, x = 'labels', y = 'values')\n"
   ]
  }
 ],
 "metadata": {
  "interpreter": {
   "hash": "40d3a090f54c6569ab1632332b64b2c03c39dcf918b08424e98f38b5ae0af88f"
  },
  "kernelspec": {
   "display_name": "Python 3.9.7 64-bit ('base': conda)",
   "language": "python",
   "name": "python3"
  },
  "language_info": {
   "codemirror_mode": {
    "name": "ipython",
    "version": 3
   },
   "file_extension": ".py",
   "mimetype": "text/x-python",
   "name": "python",
   "nbconvert_exporter": "python",
   "pygments_lexer": "ipython3",
   "version": "3.9.7"
  },
  "orig_nbformat": 4
 },
 "nbformat": 4,
 "nbformat_minor": 2
}
