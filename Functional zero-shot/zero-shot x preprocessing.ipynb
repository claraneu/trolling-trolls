{
 "cells": [
  {
   "cell_type": "code",
   "execution_count": 5,
   "metadata": {},
   "outputs": [
    {
     "name": "stdout",
     "output_type": "stream",
     "text": [
      "INITIALIZING DATA PROCESSING + CLEANING\n",
      "\n",
      " DATA PROCESSING + CLEANING COMPLETE \n",
      "\n",
      "INITIALIZING DATA ANALYSIS\n",
      "The standard model being used is Valhalla, an optimized version of the Bart Large pretrained analysis model providing faster results. \n",
      " If you have not used it before, it may take a while to download as it is quite large.\n",
      "['hatespeech', 'racist', 'sexist', 'neutral']\n",
      "\n",
      "\n",
      "Approved\n",
      "['hatespeech', 'racist', 'sexist', 'neutral']\n"
     ]
    },
    {
     "name": "stderr",
     "output_type": "stream",
     "text": [
      "  1%|          | 1/100 [00:00<01:32,  1.07it/s]"
     ]
    },
    {
     "name": "stdout",
     "output_type": "stream",
     "text": [
      " rt : as a woman you shouldn't complain about cleaning up your house\n",
      "['sexist', 'hatespeech', 'racist', 'neutral']\n",
      "[0.9784378409385681, 0.0648459866642952, 0.052967581897974014, 0.0029014074243605137]\n",
      "\n",
      "\n"
     ]
    },
    {
     "name": "stderr",
     "output_type": "stream",
     "text": [
      "  2%|▏         | 2/100 [00:01<01:15,  1.29it/s]"
     ]
    },
    {
     "name": "stdout",
     "output_type": "stream",
     "text": [
      " rt : boy dats cold\n",
      "['hatespeech', 'sexist', 'racist', 'neutral']\n",
      "[0.7763931155204773, 0.13457685708999634, 0.0533047653734684, 0.00312512693926692]\n",
      "\n",
      "\n"
     ]
    },
    {
     "name": "stderr",
     "output_type": "stream",
     "text": [
      "  3%|▎         | 3/100 [00:02<01:35,  1.01it/s]"
     ]
    },
    {
     "name": "stdout",
     "output_type": "stream",
     "text": [
      " rt  dawg rt : you ever fuck a bitch and she start to cry? you be confused as shit\n",
      "['sexist', 'racist', 'hatespeech', 'neutral']\n",
      "[0.7760063409805298, 0.1819409281015396, 0.14068084955215454, 0.00036044884473085403]\n",
      "\n",
      "\n"
     ]
    },
    {
     "name": "stderr",
     "output_type": "stream",
     "text": [
      "  4%|▍         | 4/100 [00:03<01:33,  1.02it/s]"
     ]
    },
    {
     "name": "stdout",
     "output_type": "stream",
     "text": [
      " rt _g_anderson: _based she look like a tranny\n",
      "['racist', 'sexist', 'hatespeech', 'neutral']\n",
      "[0.7491874098777771, 0.740682065486908, 0.06922344118356705, 0.0018300164956599474]\n",
      "\n",
      "\n"
     ]
    },
    {
     "name": "stderr",
     "output_type": "stream",
     "text": [
      "  7%|▋         | 7/100 [00:07<01:36,  1.04s/it]"
     ]
    },
    {
     "name": "stdout",
     "output_type": "stream",
     "text": [
      "\"@__brighterdays: i can not just sit up and hate on another bitch \n",
      "['hatespeech', 'sexist', 'racist', 'neutral']\n",
      "[0.7977164387702942, 0.7752526998519897, 0.27690666913986206, 0.0012614167062565684]\n",
      "\n",
      "\n"
     ]
    },
    {
     "name": "stderr",
     "output_type": "stream",
     "text": [
      "  8%|▊         | 8/100 [00:08<01:36,  1.05s/it]"
     ]
    },
    {
     "name": "stdout",
     "output_type": "stream",
     "text": [
      "“: cause i'm tired of you big bitches coming for us skinny girls”\n",
      "['sexist', 'hatespeech', 'racist', 'neutral']\n",
      "[0.8603588938713074, 0.6774135231971741, 0.23865444958209991, 0.0011993367224931717]\n",
      "\n",
      "\n"
     ]
    },
    {
     "name": "stderr",
     "output_type": "stream",
     "text": [
      "  9%|▉         | 9/100 [00:09<01:29,  1.01it/s]"
     ]
    },
    {
     "name": "stdout",
     "output_type": "stream",
     "text": [
      "\" & you might not get ya bitch back & thats that \"\n",
      "['hatespeech', 'sexist', 'racist', 'neutral']\n",
      "[0.6119954586029053, 0.5925929546356201, 0.1559014916419983, 0.0032551917247474194]\n",
      "\n",
      "\n"
     ]
    },
    {
     "name": "stderr",
     "output_type": "stream",
     "text": [
      " 10%|█         | 10/100 [00:09<01:27,  1.03it/s]"
     ]
    },
    {
     "name": "stdout",
     "output_type": "stream",
     "text": [
      "\" _ :hobbies include: fighting mariam\"\n",
      "\n",
      "bitch\n",
      "['sexist', 'racist', 'hatespeech', 'neutral']\n",
      "[0.8869963884353638, 0.7999774217605591, 0.6022580862045288, 0.0003511799732223153]\n",
      "\n",
      "\n"
     ]
    },
    {
     "name": "stderr",
     "output_type": "stream",
     "text": [
      " 11%|█         | 11/100 [00:10<01:28,  1.01it/s]"
     ]
    },
    {
     "name": "stdout",
     "output_type": "stream",
     "text": [
      "\" keeks is a bitch she curves everyone \" lol i walked into a conversation like this\n",
      "['sexist', 'hatespeech', 'racist', 'neutral']\n",
      "[0.9377551078796387, 0.7810362577438354, 0.15758806467056274, 0.00040111676207743585]\n",
      "\n",
      "\n"
     ]
    },
    {
     "name": "stderr",
     "output_type": "stream",
     "text": [
      " 12%|█▏        | 12/100 [00:11<01:20,  1.10it/s]"
     ]
    },
    {
     "name": "stdout",
     "output_type": "stream",
     "text": [
      "\" murda gang bitch its gang land \"\n",
      "['hatespeech', 'racist', 'sexist', 'neutral']\n",
      "[0.9859157204627991, 0.6393624544143677, 0.39917999505996704, 0.00034155967296101153]\n",
      "\n",
      "\n"
     ]
    },
    {
     "name": "stderr",
     "output_type": "stream",
     "text": [
      " 13%|█▎        | 13/100 [00:12<01:17,  1.12it/s]"
     ]
    },
    {
     "name": "stdout",
     "output_type": "stream",
     "text": [
      "\" so hoes that smoke are losers ? \" yea \n",
      "['sexist', 'hatespeech', 'racist', 'neutral']\n",
      "[0.8874860405921936, 0.5044309496879578, 0.3376745879650116, 0.005199314095079899]\n",
      "\n",
      "\n"
     ]
    },
    {
     "name": "stderr",
     "output_type": "stream",
     "text": [
      " 15%|█▌        | 15/100 [00:14<01:09,  1.23it/s]"
     ]
    },
    {
     "name": "stdout",
     "output_type": "stream",
     "text": [
      "\" bitch get up off me \"\n",
      "['sexist', 'hatespeech', 'racist', 'neutral']\n",
      "[0.9264681935310364, 0.8001973032951355, 0.2092466503381729, 0.003137946594506502]\n",
      "\n",
      "\n"
     ]
    },
    {
     "name": "stderr",
     "output_type": "stream",
     "text": [
      " 16%|█▌        | 16/100 [00:14<01:06,  1.27it/s]"
     ]
    },
    {
     "name": "stdout",
     "output_type": "stream",
     "text": [
      "\" bitch nigga miss me with it \"\n",
      "['hatespeech', 'sexist', 'racist', 'neutral']\n",
      "[0.9299280643463135, 0.8208025097846985, 0.7958342432975769, 0.0015841111307963729]\n",
      "\n",
      "\n"
     ]
    },
    {
     "name": "stderr",
     "output_type": "stream",
     "text": [
      " 17%|█▋        | 17/100 [00:15<01:02,  1.34it/s]"
     ]
    },
    {
     "name": "stdout",
     "output_type": "stream",
     "text": [
      "\" bitch plz whatever \"\n",
      "['sexist', 'hatespeech', 'racist', 'neutral']\n",
      "[0.800070583820343, 0.7356282472610474, 0.09877220541238785, 0.07198610156774521]\n",
      "\n",
      "\n"
     ]
    },
    {
     "name": "stderr",
     "output_type": "stream",
     "text": [
      " 18%|█▊        | 18/100 [00:16<00:59,  1.37it/s]"
     ]
    },
    {
     "name": "stdout",
     "output_type": "stream",
     "text": [
      "\" bitch who do you love \"\n",
      "['sexist', 'racist', 'hatespeech', 'neutral']\n",
      "[0.9356801509857178, 0.17884792387485504, 0.1618511974811554, 0.004994305782020092]\n",
      "\n",
      "\n"
     ]
    },
    {
     "name": "stderr",
     "output_type": "stream",
     "text": [
      " 19%|█▉        | 19/100 [00:16<00:59,  1.37it/s]"
     ]
    },
    {
     "name": "stdout",
     "output_type": "stream",
     "text": [
      "\" bitches get cut off everyday b \"\n",
      "['sexist', 'hatespeech', 'racist', 'neutral']\n",
      "[0.7679325938224792, 0.1347745954990387, 0.09304272383451462, 0.0019174672197550535]\n",
      "\n",
      "\n"
     ]
    },
    {
     "name": "stderr",
     "output_type": "stream",
     "text": [
      " 20%|██        | 20/100 [00:17<00:58,  1.38it/s]"
     ]
    },
    {
     "name": "stdout",
     "output_type": "stream",
     "text": [
      "\" black bottle & a bad bitch \"\n",
      "['racist', 'hatespeech', 'sexist', 'neutral']\n",
      "[0.9499058127403259, 0.8598911762237549, 0.814226508140564, 0.00019474698638077825]\n",
      "\n",
      "\n"
     ]
    },
    {
     "name": "stderr",
     "output_type": "stream",
     "text": [
      " 21%|██        | 21/100 [00:18<00:57,  1.38it/s]"
     ]
    },
    {
     "name": "stdout",
     "output_type": "stream",
     "text": [
      "\" broke bitch cant tell me nothing \"\n",
      "['sexist', 'hatespeech', 'racist', 'neutral']\n",
      "[0.7845157980918884, 0.38111481070518494, 0.14893272519111633, 0.001915152883157134]\n",
      "\n",
      "\n"
     ]
    },
    {
     "name": "stderr",
     "output_type": "stream",
     "text": [
      " 22%|██▏       | 22/100 [00:19<00:56,  1.39it/s]"
     ]
    },
    {
     "name": "stdout",
     "output_type": "stream",
     "text": [
      "\" cancel that bitch like nino \"\n",
      "['sexist', 'hatespeech', 'racist', 'neutral']\n",
      "[0.7273811101913452, 0.5943587422370911, 0.31106287240982056, 0.004568829201161861]\n",
      "\n",
      "\n"
     ]
    },
    {
     "name": "stderr",
     "output_type": "stream",
     "text": [
      " 23%|██▎       | 23/100 [00:19<00:56,  1.36it/s]"
     ]
    },
    {
     "name": "stdout",
     "output_type": "stream",
     "text": [
      "\" cant you see these hoes wont change \"\n",
      "['sexist', 'racist', 'hatespeech', 'neutral']\n",
      "[0.7546281218528748, 0.15497702360153198, 0.13803628087043762, 0.0006224268581718206]\n",
      "\n",
      "\n"
     ]
    },
    {
     "name": "stderr",
     "output_type": "stream",
     "text": [
      " 25%|██▌       | 25/100 [00:22<01:08,  1.09it/s]"
     ]
    },
    {
     "name": "stdout",
     "output_type": "stream",
     "text": [
      "\" got ya bitch tip toeing on my hardwood floors \" 😂 \n",
      "['hatespeech', 'sexist', 'racist', 'neutral']\n",
      "[0.7865529656410217, 0.7689049243927002, 0.09525922685861588, 0.0010135445045307279]\n",
      "\n",
      "\n"
     ]
    },
    {
     "name": "stderr",
     "output_type": "stream",
     "text": [
      " 26%|██▌       | 26/100 [00:22<01:04,  1.14it/s]"
     ]
    },
    {
     "name": "stdout",
     "output_type": "stream",
     "text": [
      "\" her pussy lips like heaven doors \" 😌\n",
      "['sexist', 'racist', 'hatespeech', 'neutral']\n",
      "[0.5785389542579651, 0.010179577395319939, 0.0026691623497754335, 0.001052725943736732]\n",
      "\n",
      "\n"
     ]
    },
    {
     "name": "stderr",
     "output_type": "stream",
     "text": [
      " 28%|██▊       | 28/100 [00:24<00:57,  1.25it/s]"
     ]
    },
    {
     "name": "stdout",
     "output_type": "stream",
     "text": [
      "\" i met that pussy on ocean dr \n",
      "['sexist', 'hatespeech', 'racist', 'neutral']\n",
      "[0.7210568785667419, 0.5200067162513733, 0.06350692361593246, 0.0022078361362218857]\n",
      "\n",
      "\n"
     ]
    },
    {
     "name": "stderr",
     "output_type": "stream",
     "text": [
      " 29%|██▉       | 29/100 [00:25<00:59,  1.20it/s]"
     ]
    },
    {
     "name": "stdout",
     "output_type": "stream",
     "text": [
      "\" i need a trippy bitch who fuck on hennessy \"\n",
      "['sexist', 'racist', 'hatespeech', 'neutral']\n",
      "[0.867834746837616, 0.13123464584350586, 0.08478087186813354, 0.0002429704909445718]\n",
      "\n",
      "\n"
     ]
    },
    {
     "name": "stderr",
     "output_type": "stream",
     "text": [
      " 30%|███       | 30/100 [00:26<00:59,  1.18it/s]"
     ]
    },
    {
     "name": "stdout",
     "output_type": "stream",
     "text": [
      "\" i spend my money how i want bitch its my business \"\n",
      "['sexist', 'hatespeech', 'racist', 'neutral']\n",
      "[0.5342047810554504, 0.4580884575843811, 0.09080468118190765, 0.005414056126028299]\n",
      "\n",
      "\n"
     ]
    },
    {
     "name": "stderr",
     "output_type": "stream",
     "text": [
      " 31%|███       | 31/100 [00:26<01:00,  1.15it/s]"
     ]
    },
    {
     "name": "stdout",
     "output_type": "stream",
     "text": [
      "\" i txt my old bitch my new bitch pussy wetter \"\n",
      "['sexist', 'racist', 'hatespeech', 'neutral']\n",
      "[0.9546530246734619, 0.3712117075920105, 0.05850548669695854, 0.0009718115325085819]\n",
      "\n",
      "\n"
     ]
    },
    {
     "name": "stderr",
     "output_type": "stream",
     "text": [
      " 32%|███▏      | 32/100 [00:28<01:04,  1.06it/s]"
     ]
    },
    {
     "name": "stdout",
     "output_type": "stream",
     "text": [
      "\" i'd say im back to the old me but my old bitches would get excited \" 😌\n",
      "['sexist', 'hatespeech', 'racist', 'neutral']\n",
      "[0.6559137105941772, 0.08254069834947586, 0.020464636385440826, 0.010098380036652088]\n",
      "\n",
      "\n"
     ]
    },
    {
     "name": "stderr",
     "output_type": "stream",
     "text": [
      " 33%|███▎      | 33/100 [00:29<01:03,  1.06it/s]"
     ]
    },
    {
     "name": "stdout",
     "output_type": "stream",
     "text": [
      "\" if you aint bout that murder game pussy nigga shut up \"\n",
      "['hatespeech', 'sexist', 'racist', 'neutral']\n",
      "[0.9364069700241089, 0.9145834445953369, 0.7794150710105896, 0.0006000306457281113]\n",
      "\n",
      "\n"
     ]
    },
    {
     "name": "stderr",
     "output_type": "stream",
     "text": [
      " 34%|███▍      | 34/100 [00:29<01:01,  1.08it/s]"
     ]
    },
    {
     "name": "stdout",
     "output_type": "stream",
     "text": [
      "\" if you're toes ain't done you pussy stinks \"\n",
      "['sexist', 'hatespeech', 'racist', 'neutral']\n",
      "[0.8639248013496399, 0.7078208923339844, 0.21395140886306763, 0.0017247844953089952]\n",
      "\n",
      "\n"
     ]
    },
    {
     "name": "stderr",
     "output_type": "stream",
     "text": [
      " 35%|███▌      | 35/100 [00:30<00:59,  1.10it/s]"
     ]
    },
    {
     "name": "stdout",
     "output_type": "stream",
     "text": [
      "\" im done with bitter bitches its a wrap for that \n",
      "['hatespeech', 'sexist', 'racist', 'neutral']\n",
      "[0.6961096525192261, 0.18384265899658203, 0.02005334198474884, 0.0025728128384798765]\n",
      "\n",
      "\n"
     ]
    },
    {
     "name": "stderr",
     "output_type": "stream",
     "text": [
      " 36%|███▌      | 36/100 [00:31<00:53,  1.20it/s]"
     ]
    },
    {
     "name": "stdout",
     "output_type": "stream",
     "text": [
      "\" is that ya bitch \"\n",
      "['hatespeech', 'sexist', 'racist', 'neutral']\n",
      "[0.9310804605484009, 0.8264582753181458, 0.35621359944343567, 0.0013349700020626187]\n",
      "\n",
      "\n"
     ]
    },
    {
     "name": "stderr",
     "output_type": "stream",
     "text": [
      " 37%|███▋      | 37/100 [00:32<00:52,  1.20it/s]"
     ]
    },
    {
     "name": "stdout",
     "output_type": "stream",
     "text": [
      "\" it aint nothing to cut a bitch off \"\n",
      "['sexist', 'hatespeech', 'racist', 'neutral']\n",
      "[0.8152914047241211, 0.4272534251213074, 0.1450095772743225, 0.0005389478174038231]\n",
      "\n",
      "\n"
     ]
    },
    {
     "name": "stderr",
     "output_type": "stream",
     "text": [
      " 38%|███▊      | 38/100 [00:33<00:53,  1.15it/s]"
     ]
    },
    {
     "name": "stdout",
     "output_type": "stream",
     "text": [
      "\" jus meet son now he ya mane ass bitches \" shots\n",
      "['hatespeech', 'sexist', 'racist', 'neutral']\n",
      "[0.9233523011207581, 0.916297435760498, 0.5832903385162354, 0.00045430564205162227]\n",
      "\n",
      "\n"
     ]
    },
    {
     "name": "stderr",
     "output_type": "stream",
     "text": [
      " 39%|███▉      | 39/100 [00:34<00:52,  1.16it/s]"
     ]
    },
    {
     "name": "stdout",
     "output_type": "stream",
     "text": [
      "\" lames crying over hoes thats tears of a clown \"\n",
      "['sexist', 'hatespeech', 'racist', 'neutral']\n",
      "[0.9681472778320312, 0.43790268898010254, 0.1366191953420639, 0.001464027096517384]\n",
      "\n",
      "\n"
     ]
    },
    {
     "name": "stderr",
     "output_type": "stream",
     "text": [
      " 40%|████      | 40/100 [00:35<00:53,  1.13it/s]"
     ]
    },
    {
     "name": "stdout",
     "output_type": "stream",
     "text": [
      "\" like snoop said in 94 we dont love these hoes \"\n",
      "['hatespeech', 'sexist', 'racist', 'neutral']\n",
      "[0.9239574074745178, 0.7081936597824097, 0.27145346999168396, 0.0009417111286893487]\n",
      "\n",
      "\n"
     ]
    },
    {
     "name": "stderr",
     "output_type": "stream",
     "text": [
      " 41%|████      | 41/100 [00:35<00:52,  1.13it/s]"
     ]
    },
    {
     "name": "stdout",
     "output_type": "stream",
     "text": [
      "\" momma said no pussy cats inside my doghouse \"\n",
      "['sexist', 'racist', 'hatespeech', 'neutral']\n",
      "[0.5696519017219543, 0.09671811014413834, 0.035850875079631805, 0.003261297708377242]\n",
      "\n",
      "\n"
     ]
    },
    {
     "name": "stderr",
     "output_type": "stream",
     "text": [
      " 42%|████▏     | 42/100 [00:36<00:53,  1.09it/s]"
     ]
    },
    {
     "name": "stdout",
     "output_type": "stream",
     "text": [
      "\" most hated but the hoes favorite \" 2mw sevenone  \n",
      "['hatespeech', 'sexist', 'racist', 'neutral']\n",
      "[0.8506367802619934, 0.6715319156646729, 0.13191820681095123, 0.0066788410767912865]\n",
      "\n",
      "\n"
     ]
    },
    {
     "name": "stderr",
     "output_type": "stream",
     "text": [
      " 43%|████▎     | 43/100 [00:37<00:49,  1.16it/s]"
     ]
    },
    {
     "name": "stdout",
     "output_type": "stream",
     "text": [
      "\" nice girls bad, make me get naughty\n",
      "['sexist', 'hatespeech', 'racist', 'neutral']\n",
      "[0.8979789614677429, 0.40676063299179077, 0.04780818521976471, 0.0004122688842471689]\n",
      "\n",
      "\n"
     ]
    },
    {
     "name": "stderr",
     "output_type": "stream",
     "text": [
      " 44%|████▍     | 44/100 [00:38<00:48,  1.15it/s]"
     ]
    },
    {
     "name": "stdout",
     "output_type": "stream",
     "text": [
      "\" pimps up pimps up hoes down \" future voice\n",
      "['sexist', 'racist', 'hatespeech', 'neutral']\n",
      "[0.7636568546295166, 0.17312894761562347, 0.06416790932416916, 0.00017627060879021883]\n",
      "\n",
      "\n"
     ]
    },
    {
     "name": "stderr",
     "output_type": "stream",
     "text": [
      " 45%|████▌     | 45/100 [00:39<00:46,  1.18it/s]"
     ]
    },
    {
     "name": "stdout",
     "output_type": "stream",
     "text": [
      "\" post a picture of that pussy get 200 likes \"\n",
      "['sexist', 'racist', 'hatespeech', 'neutral']\n",
      "[0.9398708939552307, 0.13349932432174683, 0.08003304153680801, 0.008053549565374851]\n",
      "\n",
      "\n"
     ]
    },
    {
     "name": "stderr",
     "output_type": "stream",
     "text": [
      " 46%|████▌     | 46/100 [00:40<00:46,  1.16it/s]"
     ]
    },
    {
     "name": "stdout",
     "output_type": "stream",
     "text": [
      "\" pussy is a powerful drug \" 😅 happyhumpday \n",
      "['sexist', 'racist', 'hatespeech', 'neutral']\n",
      "[0.7640539407730103, 0.016905048862099648, 0.0035116944927722216, 0.00168682134244591]\n",
      "\n",
      "\n"
     ]
    },
    {
     "name": "stderr",
     "output_type": "stream",
     "text": [
      " 47%|████▋     | 47/100 [00:41<00:44,  1.18it/s]"
     ]
    },
    {
     "name": "stdout",
     "output_type": "stream",
     "text": [
      "\" quick piece of pussy call it a drive by \"\n",
      "['sexist', 'hatespeech', 'racist', 'neutral']\n",
      "[0.9103636145591736, 0.7203205823898315, 0.10339625924825668, 0.004029474221169949]\n",
      "\n",
      "\n"
     ]
    },
    {
     "name": "stderr",
     "output_type": "stream",
     "text": [
      " 48%|████▊     | 48/100 [00:41<00:45,  1.15it/s]"
     ]
    },
    {
     "name": "stdout",
     "output_type": "stream",
     "text": [
      "\" running round here like some brand new pussy thats bout to get fucked \"\n",
      "['sexist', 'racist', 'hatespeech', 'neutral']\n",
      "[0.8676164150238037, 0.37192392349243164, 0.04541696608066559, 0.00020558087271638215]\n",
      "\n",
      "\n"
     ]
    },
    {
     "name": "stderr",
     "output_type": "stream",
     "text": [
      " 49%|████▉     | 49/100 [00:42<00:44,  1.14it/s]"
     ]
    },
    {
     "name": "stdout",
     "output_type": "stream",
     "text": [
      "\" these bitches even worst they'll send them guys for you \"\n",
      "['sexist', 'hatespeech', 'racist', 'neutral']\n",
      "[0.9282125234603882, 0.6376889944076538, 0.44370096921920776, 0.0005807753186672926]\n",
      "\n",
      "\n"
     ]
    },
    {
     "name": "stderr",
     "output_type": "stream",
     "text": [
      " 50%|█████     | 50/100 [00:43<00:45,  1.10it/s]"
     ]
    },
    {
     "name": "stdout",
     "output_type": "stream",
     "text": [
      "\" these hoes like niggas that spend money not talk bout it \"\n",
      "['sexist', 'hatespeech', 'racist', 'neutral']\n",
      "[0.8618833422660828, 0.6188459992408752, 0.5126328468322754, 0.0010000295005738735]\n",
      "\n",
      "\n"
     ]
    },
    {
     "name": "stderr",
     "output_type": "stream",
     "text": [
      " 51%|█████     | 51/100 [00:44<00:43,  1.12it/s]"
     ]
    },
    {
     "name": "stdout",
     "output_type": "stream",
     "text": [
      "\" we dont trust these niggas all these bitches \"\n",
      "['sexist', 'racist', 'hatespeech', 'neutral']\n",
      "[0.6575868725776672, 0.6072430610656738, 0.4954972565174103, 0.0007051317952573299]\n",
      "\n",
      "\n"
     ]
    },
    {
     "name": "stderr",
     "output_type": "stream",
     "text": [
      " 52%|█████▏    | 52/100 [00:45<00:46,  1.04it/s]"
     ]
    },
    {
     "name": "stdout",
     "output_type": "stream",
     "text": [
      "\" yall niggas b cuffing hoes cause yall aint never have bitches \"\n",
      "['sexist', 'hatespeech', 'racist', 'neutral']\n",
      "[0.9139419794082642, 0.9069324135780334, 0.8630694150924683, 0.0006439485005103052]\n",
      "\n",
      "\n"
     ]
    },
    {
     "name": "stderr",
     "output_type": "stream",
     "text": [
      " 53%|█████▎    | 53/100 [00:47<00:49,  1.05s/it]"
     ]
    },
    {
     "name": "stdout",
     "output_type": "stream",
     "text": [
      "\" you dodge a bullet \" 😅 “: \"all da bitches i cut off pregnant or bound to be \n",
      "['sexist', 'hatespeech', 'racist', 'neutral']\n",
      "[0.6582745909690857, 0.62383633852005, 0.07928702235221863, 0.0008022831752896309]\n",
      "\n",
      "\n"
     ]
    },
    {
     "name": "stderr",
     "output_type": "stream",
     "text": [
      " 54%|█████▍    | 54/100 [00:47<00:45,  1.01it/s]"
     ]
    },
    {
     "name": "stdout",
     "output_type": "stream",
     "text": [
      "\" young pill chamberlain these bitches love my music \"\n",
      "['sexist', 'hatespeech', 'racist', 'neutral']\n",
      "[0.6846333146095276, 0.07283559441566467, 0.05020175501704216, 0.0017694823909550905]\n",
      "\n",
      "\n"
     ]
    },
    {
     "name": "stderr",
     "output_type": "stream",
     "text": [
      " 58%|█████▊    | 58/100 [00:54<00:55,  1.31s/it]"
     ]
    },
    {
     "name": "stdout",
     "output_type": "stream",
     "text": [
      "\"& he's gone always be a hoe\"\n",
      "['hatespeech', 'sexist', 'racist', 'neutral']\n",
      "[0.8970876932144165, 0.8818155527114868, 0.5362358093261719, 0.002163473516702652]\n",
      "\n",
      "\n"
     ]
    },
    {
     "name": "stderr",
     "output_type": "stream",
     "text": [
      " 61%|██████    | 61/100 [00:56<00:40,  1.03s/it]"
     ]
    },
    {
     "name": "stdout",
     "output_type": "stream",
     "text": [
      "\": i probably wouldn’t mind school as much if we didn’t have to deal with bitch ass teachers\"\n",
      "['hatespeech', 'sexist', 'racist', 'neutral']\n",
      "[0.8516608476638794, 0.6948091983795166, 0.12715059518814087, 0.0005131875514052808]\n",
      "\n",
      "\n"
     ]
    },
    {
     "name": "stderr",
     "output_type": "stream",
     "text": [
      " 62%|██████▏   | 62/100 [00:57<00:36,  1.05it/s]"
     ]
    },
    {
     "name": "stdout",
     "output_type": "stream",
     "text": [
      "\": i'm a fucking fag they said\"\n",
      "['hatespeech', 'sexist', 'racist', 'neutral']\n",
      "[0.9632202386856079, 0.2790003716945648, 0.17345018684864044, 0.0004535562184173614]\n",
      "\n",
      "\n"
     ]
    },
    {
     "name": "stderr",
     "output_type": "stream",
     "text": [
      " 63%|██████▎   | 63/100 [00:58<00:37,  1.01s/it]"
     ]
    },
    {
     "name": "stdout",
     "output_type": "stream",
     "text": [
      "\": females think dating a pussy is cute now?  how does doing this stuff make him a pussy?\n",
      "['sexist', 'racist', 'hatespeech', 'neutral']\n",
      "[0.7325922846794128, 0.018204089254140854, 0.005298610311001539, 0.0014756870223209262]\n",
      "\n",
      "\n"
     ]
    },
    {
     "name": "stderr",
     "output_type": "stream",
     "text": [
      " 65%|██████▌   | 65/100 [01:00<00:35,  1.02s/it]"
     ]
    },
    {
     "name": "stdout",
     "output_type": "stream",
     "text": [
      "\": have ya ever asked your bitch for other bitches - kanye voice\" yes\n",
      "['sexist', 'hatespeech', 'racist', 'neutral']\n",
      "[0.6887828707695007, 0.35671401023864746, 0.23231783509254456, 0.0005067737074568868]\n",
      "\n",
      "\n"
     ]
    },
    {
     "name": "stderr",
     "output_type": "stream",
     "text": [
      " 66%|██████▌   | 66/100 [01:01<00:39,  1.16s/it]"
     ]
    },
    {
     "name": "stdout",
     "output_type": "stream",
     "text": [
      "\": how u gone bring ur side bitch to a game where you know ya gf friends at ? 😩😩😩😩\" i swear\n",
      "['sexist', 'hatespeech', 'racist', 'neutral']\n",
      "[0.9966869354248047, 0.9381402134895325, 0.9006751179695129, 0.00011999136040685698]\n",
      "\n",
      "\n"
     ]
    },
    {
     "name": "stderr",
     "output_type": "stream",
     "text": [
      " 69%|██████▉   | 69/100 [01:04<00:30,  1.03it/s]"
     ]
    },
    {
     "name": "stdout",
     "output_type": "stream",
     "text": [
      "\"__:  ____ bitch fuck u  maybe you'll get better\n",
      "['hatespeech', 'sexist', 'racist', 'neutral']\n",
      "[0.9838681221008301, 0.9627471566200256, 0.5441038012504578, 0.0031082795467227697]\n",
      "\n",
      "\n"
     ]
    },
    {
     "name": "stderr",
     "output_type": "stream",
     "text": [
      " 70%|███████   | 70/100 [01:05<00:30,  1.02s/it]"
     ]
    },
    {
     "name": "stdout",
     "output_type": "stream",
     "text": [
      "\"__: fuck red malone man bitch ass niggah\" could you please use complete sentences?\n",
      "['sexist', 'hatespeech', 'racist', 'neutral']\n",
      "[0.979902982711792, 0.9797854423522949, 0.9666704535484314, 0.00012265627447050065]\n",
      "\n",
      "\n"
     ]
    },
    {
     "name": "stderr",
     "output_type": "stream",
     "text": [
      " 73%|███████▎  | 73/100 [01:08<00:25,  1.05it/s]"
     ]
    },
    {
     "name": "stdout",
     "output_type": "stream",
     "text": [
      "\": him seh me pussy wetter then a shower curtain\n",
      "['sexist', 'racist', 'hatespeech', 'neutral']\n",
      "[0.7191652059555054, 0.04689902439713478, 0.025970542803406715, 0.0004076453042216599]\n",
      "\n",
      "\n"
     ]
    },
    {
     "name": "stderr",
     "output_type": "stream",
     "text": [
      " 74%|███████▍  | 74/100 [01:09<00:28,  1.09s/it]"
     ]
    },
    {
     "name": "stdout",
     "output_type": "stream",
     "text": [
      "\"_hen314: eaglesnation and every eagles need to see that pic i just posted because that bitch just said the most racist shit\"\n",
      "['racist', 'hatespeech', 'sexist', 'neutral']\n",
      "[0.9940462708473206, 0.8594026565551758, 0.6004490852355957, 9.539162419969216e-05]\n",
      "\n",
      "\n"
     ]
    },
    {
     "name": "stderr",
     "output_type": "stream",
     "text": [
      " 75%|███████▌  | 75/100 [01:11<00:27,  1.12s/it]"
     ]
    },
    {
     "name": "stdout",
     "output_type": "stream",
     "text": [
      "\": yo fuck skateboarding, all y'all some wood pushing faggots man, ball is life \n",
      "\n",
      "['hatespeech', 'racist', 'sexist', 'neutral']\n",
      "[0.8530404567718506, 0.16699418425559998, 0.04477737471461296, 0.0009217933984473348]\n",
      "\n",
      "\n"
     ]
    },
    {
     "name": "stderr",
     "output_type": "stream",
     "text": [
      " 78%|███████▊  | 78/100 [01:14<00:25,  1.17s/it]"
     ]
    },
    {
     "name": "stdout",
     "output_type": "stream",
     "text": [
      "\": u ever kill a ant on the sidewalk and think damn what if that nigga was on his way to get some pussy\"no bs must b >30%chance\n",
      "['racist', 'sexist', 'hatespeech', 'neutral']\n",
      "[0.6573424935340881, 0.4314891993999481, 0.1634146273136139, 0.0005593769019469619]\n",
      "\n",
      "\n"
     ]
    },
    {
     "name": "stderr",
     "output_type": "stream",
     "text": [
      " 79%|███████▉  | 79/100 [01:15<00:23,  1.14s/it]"
     ]
    },
    {
     "name": "stdout",
     "output_type": "stream",
     "text": [
      "\": @_kudabrazyy  0 rings 0 mvps 0 bitches lol\n",
      "['sexist', 'hatespeech', 'racist', 'neutral']\n",
      "[0.6098811626434326, 0.40442734956741333, 0.0768909603357315, 0.0023378401529043913]\n",
      "\n",
      "\n"
     ]
    },
    {
     "name": "stderr",
     "output_type": "stream",
     "text": [
      " 80%|████████  | 80/100 [01:16<00:20,  1.03s/it]"
     ]
    },
    {
     "name": "stdout",
     "output_type": "stream",
     "text": [
      "\": ppl talk bad about the ghetto/hood \n",
      "['hatespeech', 'racist', 'sexist', 'neutral']\n",
      "[0.9872151613235474, 0.4714301526546478, 0.0296059250831604, 0.0005052901688031852]\n",
      "\n",
      "\n"
     ]
    },
    {
     "name": "stderr",
     "output_type": "stream",
     "text": [
      " 83%|████████▎ | 83/100 [01:19<00:18,  1.12s/it]"
     ]
    },
    {
     "name": "stdout",
     "output_type": "stream",
     "text": [
      "\": get worshiping bitch  woof woof\n",
      "['sexist', 'hatespeech', 'racist', 'neutral']\n",
      "[0.8981331586837769, 0.6791284680366516, 0.2336234748363495, 0.0009347961749881506]\n",
      "\n",
      "\n"
     ]
    },
    {
     "name": "stderr",
     "output_type": "stream",
     "text": [
      " 87%|████████▋ | 87/100 [01:22<00:11,  1.16it/s]"
     ]
    },
    {
     "name": "stdout",
     "output_type": "stream",
     "text": [
      "\":  faggot read my tweets after dat k\" it wasn't even funny lol\n",
      "['hatespeech', 'sexist', 'racist', 'neutral']\n",
      "[0.6090055108070374, 0.48096877336502075, 0.3166932761669159, 0.00033309159334748983]\n",
      "\n",
      "\n"
     ]
    },
    {
     "name": "stderr",
     "output_type": "stream",
     "text": [
      " 88%|████████▊ | 88/100 [01:23<00:10,  1.19it/s]"
     ]
    },
    {
     "name": "stdout",
     "output_type": "stream",
     "text": [
      "\": this bitch was so ungrateful  fr \n",
      "['hatespeech', 'sexist', 'racist', 'neutral']\n",
      "[0.7520379424095154, 0.3078756630420685, 0.11966812610626221, 0.0008634742698632181]\n",
      "\n",
      "\n"
     ]
    },
    {
     "name": "stderr",
     "output_type": "stream",
     "text": [
      " 89%|████████▉ | 89/100 [01:24<00:08,  1.28it/s]"
     ]
    },
    {
     "name": "stdout",
     "output_type": "stream",
     "text": [
      "\": i been kidnapped yo bitch\"\n",
      "['hatespeech', 'sexist', 'racist', 'neutral']\n",
      "[0.8699307441711426, 0.828729510307312, 0.20749244093894958, 0.000394613976823166]\n",
      "\n",
      "\n"
     ]
    },
    {
     "name": "stderr",
     "output_type": "stream",
     "text": [
      " 93%|█████████▎| 93/100 [01:28<00:07,  1.03s/it]"
     ]
    },
    {
     "name": "stdout",
     "output_type": "stream",
     "text": [
      "\": \":  that nigga was eating that hoe lol\" hell yea lol john paul\" nigga said john paul\n",
      "['racist', 'sexist', 'hatespeech', 'neutral']\n",
      "[0.6142905354499817, 0.2592761218547821, 0.07890357822179794, 0.0009539659367874265]\n",
      "\n",
      "\n"
     ]
    },
    {
     "name": "stderr",
     "output_type": "stream",
     "text": [
      " 94%|█████████▍| 94/100 [01:29<00:06,  1.07s/it]"
     ]
    },
    {
     "name": "stdout",
     "output_type": "stream",
     "text": [
      "\": what would y'all lil ugly bald headed bitches do if they stop making make-up & weave?\"\n",
      "['sexist', 'hatespeech', 'racist', 'neutral']\n",
      "[0.8425914645195007, 0.838296115398407, 0.561389684677124, 0.001772758667357266]\n",
      "\n",
      "\n"
     ]
    },
    {
     "name": "stderr",
     "output_type": "stream",
     "text": [
      " 95%|█████████▌| 95/100 [01:30<00:05,  1.12s/it]"
     ]
    },
    {
     "name": "stdout",
     "output_type": "stream",
     "text": [
      "\": leafs better win this damn game so i can go riot and shit earlychristmas\" you better start looting my nig\n",
      "['racist', 'hatespeech', 'sexist', 'neutral']\n",
      "[0.7031977772712708, 0.48993176221847534, 0.2680695056915283, 0.0004773896071128547]\n",
      "\n",
      "\n"
     ]
    },
    {
     "name": "stderr",
     "output_type": "stream",
     "text": [
      " 96%|█████████▌| 96/100 [01:31<00:04,  1.07s/it]"
     ]
    },
    {
     "name": "stdout",
     "output_type": "stream",
     "text": [
      "\": going back to school sucks more dick than the hoes who attend it.\"\n",
      "['sexist', 'hatespeech', 'racist', 'neutral']\n",
      "[0.9563913345336914, 0.8068589568138123, 0.07258351147174835, 0.0008047380833886564]\n",
      "\n",
      "\n"
     ]
    },
    {
     "name": "stderr",
     "output_type": "stream",
     "text": [
      " 97%|█████████▋| 97/100 [01:32<00:03,  1.03s/it]"
     ]
    },
    {
     "name": "stdout",
     "output_type": "stream",
     "text": [
      "\": on my way to fuck yo bitch  me as a 9 year old\n",
      "['hatespeech', 'sexist', 'racist', 'neutral']\n",
      "[0.7217006087303162, 0.6429320573806763, 0.28451260924339294, 0.00039936756365932524]\n",
      "\n",
      "\n"
     ]
    },
    {
     "name": "stderr",
     "output_type": "stream",
     "text": [
      " 98%|█████████▊| 98/100 [01:33<00:02,  1.03s/it]"
     ]
    },
    {
     "name": "stdout",
     "output_type": "stream",
     "text": [
      "\": _thunduh how come you never bring me food\" i dont have a car retard\n",
      "['hatespeech', 'racist', 'sexist', 'neutral']\n",
      "[0.7610167860984802, 0.1582840383052826, 0.15719713270664215, 0.0002751197316683829]\n",
      "\n",
      "\n"
     ]
    },
    {
     "name": "stderr",
     "output_type": "stream",
     "text": [
      "100%|██████████| 100/100 [01:35<00:00,  1.04it/s]"
     ]
    },
    {
     "name": "stdout",
     "output_type": "stream",
     "text": [
      "\": how bout them cowboys\" shutup pussy\n",
      "['sexist', 'hatespeech', 'racist', 'neutral']\n",
      "[0.8370622992515564, 0.7752487063407898, 0.32268238067626953, 0.003907505422830582]\n",
      "\n",
      "\n"
     ]
    },
    {
     "name": "stderr",
     "output_type": "stream",
     "text": [
      "\n"
     ]
    },
    {
     "data": {
      "text/plain": [
       "<AxesSubplot:xlabel='labels', ylabel='values'>"
      ]
     },
     "execution_count": 5,
     "metadata": {},
     "output_type": "execute_result"
    },
    {
     "data": {
      "image/png": "[encoded data removed]",
      "text/plain": [
       "<Figure size 432x288 with 1 Axes>"
      ]
     },
     "metadata": {
      "needs_background": "light"
     },
     "output_type": "display_data"
    }
   ],
   "source": [
    "import matplotlib.pyplot as plt\n",
    "import seaborn as sns\n",
    "import pandas as pd\n",
    "import numpy as np\n",
    "import torch\n",
    "import html\n",
    "import re\n",
    "from transformers import pipeline\n",
    "from tqdm import tqdm\n",
    "from transformers import AutoTokenizer, AutoModelForSequenceClassification\n",
    "from transformers import BartTokenizer, BartModel\n",
    "from transformers import pipeline\n",
    "\n",
    "print('INITIALIZING DATA PROCESSING + CLEANING')\n",
    "\n",
    "try:\n",
    "    user_csv = input('Please input the exact name of the CSV file you wish to analyze: ')\n",
    "    tweet_column = input('Please input the name of the column containing the tweets: ')\n",
    "    tweet_column_with_quotes = \"'\" + tweet_column + \"'\"\n",
    "\n",
    "    dataframe = pd.read_csv(user_csv, delimiter=',',encoding='utf-8', header = 0)\n",
    "    pd.set_option('display.max_colwidth', None)\n",
    "    dataframe.rename(columns={tweet_column:'tweet'}) #renaming the tweet column to 'tweet'\n",
    "\n",
    "except FileNotFoundError:\n",
    "    print('There was an error finding the CSV you requested, please check the following:','\\n', '1. The CSV file is in the correct directory', '\\n', '2. You gave the correct name of the file, following the syntax: yourfilename.csv')\n",
    "\n",
    "\n",
    "df_copy = dataframe.copy() #creating a copy of the dataframe\n",
    "df_copy['tweet'] = df_copy['tweet'].str.lower() #making everything lower case\n",
    "df_copy.drop_duplicates(subset='tweet', keep='first', inplace=True, ignore_index=False) #removing duplicates\n",
    "df_copy[~df_copy.tweet.str.startswith('rt')] #removing retweets\n",
    "df_copy['tweet'] = df_copy['tweet'].apply(lambda k: html.unescape(str(k))) #removing unnecessary characters\n",
    "\n",
    "def clean_text(text):\n",
    "    text = re.sub(r'@[A-Za-z0-9]+', '', text) #Removed mentions\n",
    "    text = re.sub(r'#', '', text) #Removed hashtags\n",
    "    text = re.sub(r'https?:\\/\\/\\S+', '', text) #Remove the hyperlink\n",
    "    text = re.sub(r'\\'[\\s]+', '', text) #Remove apostrophe\n",
    "    text = re.sub(r'\\...+', '', text) #Remove dots\n",
    "    text = re.sub(r'\\!', '', text) #Remove exclamation  marks\n",
    "\n",
    "    return text\n",
    "\n",
    "df_copy['tweet'] = df_copy['tweet'].apply(clean_text)\n",
    "\n",
    "df_copy.to_csv('Cleaned_Data.csv')\n",
    "\n",
    "print('\\n','DATA PROCESSING + CLEANING COMPLETE', '\\n')\n",
    "print('INITIALIZING DATA ANALYSIS')\n",
    "\n",
    "print('The standard model being used is Valhalla, an optimized version of the Bart Large pretrained analysis model providing faster results.', '\\n', 'If you have not used it before, it may take a while to download as it is quite large.','\\n')\n",
    "\n",
    "model = input('If you wish to use Bart Large instead, type y.')\n",
    "\n",
    "if model == 'y':\n",
    "    tokenizer = BartTokenizer.from_pretrained('facebook/bart-large')\n",
    "    model = BartModel.from_pretrained('facebook/bart-large')\n",
    "else:\n",
    "    tokenizer = AutoTokenizer.from_pretrained(\"valhalla/distilbart-mnli-12-1\")\n",
    "    model = AutoModelForSequenceClassification.from_pretrained(\"valhalla/distilbart-mnli-12-1\", device = -1)\n",
    "\n",
    "try:\n",
    "    classifier = pipeline(\"zero-shot-classification\", model = model, tokenizer = tokenizer, device = -1) #classifier = pipeline(task='zero-shot-classification', model=model, tokenizer=tokenizer, framework='pt')\n",
    "except RuntimeError:\n",
    "    print(\"A runtime error occurred, check if tensorflow and pytorch are correctly installed, need to be version >= 2\")\n",
    "\n",
    "df_original  = pd.read_csv(r'Cleaned_Data.csv')\n",
    "rows = df_original['tweet'].count()\n",
    "\n",
    "try:\n",
    "    number_of_rows = int(input(f'Please specify the number of rows you wish to analyze, in your current dataset, there are {rows} rows of tweets, if you wish to look at them all, input any non-numerical character'))\n",
    "    df_name = df_original.head(number_of_rows)\n",
    "except ValueError:\n",
    "    df_name = df_original\n",
    "\n",
    "candidate_labels = []\n",
    "candidate_results = []\n",
    "\n",
    "def approval():\n",
    "    candidate_labels = []\n",
    "    labels = input('Please specify the lables you wish to analyze the tweets with, type \"done\" once you have inputted the ones you wish to use')\n",
    "\n",
    "    while labels != 'done':\n",
    "        candidate_labels.append(labels)\n",
    "        labels = input('Please specify the lables you wish to analyze the tweets with, type \"done\" once you have inputted the ones you wish to use')\n",
    "    \n",
    "    print(f'{candidate_labels}')\n",
    "    print('\\n')\n",
    "    approved = input('Are these labels correct? if so, type \"y\", if not, type any other character')\n",
    "\n",
    "    if approved != \"y\":\n",
    "        approval()\n",
    "    else:\n",
    "        print('APPRPOVED, INITALIZING TWEET ANALYSIS', '\\n')\n",
    "    return candidate_labels\n",
    "\n",
    "candidate_labels = approval()\n",
    "print(candidate_labels)\n",
    "\n",
    "for x in range(len(candidate_labels)):\n",
    "    candidate_results.append(0)\n",
    "\n",
    "for sent in tqdm(df_name['tweet'].values):\n",
    "        \n",
    "    res = classifier(sent, candidate_labels, multi_label = True) #change multilabel to True for different results\n",
    "\n",
    "    for i in range(len(candidate_labels)):\n",
    "      if res['labels'][0] == candidate_labels[i] and res['scores'][0] > 0.5:\n",
    "          candidate_results[i] = candidate_results[i] + 1\n",
    "\n",
    "    if res['scores'][0] > 0.5: #the code below this can be removed if you do not wish to have all of the results printed (might be useful for when the program is actually implemented)\n",
    "        print(sent)\n",
    "        print(res['labels'])\n",
    "        print(res['scores'])\n",
    "        print('\\n')\n",
    "\n",
    "data = {'labels': candidate_labels, 'values': candidate_results}\n",
    "df_frequency = pd.DataFrame(data, columns=['labels', 'values'])\n",
    "df_frequency.head()\n",
    "sns.barplot(data = df_frequency, x = 'labels', y = 'values')\n"
   ]
  },
  {
   "cell_type": "code",
   "execution_count": 12,
   "metadata": {},
   "outputs": [
    {
     "name": "stdout",
     "output_type": "stream",
     "text": [
      "INITIALIZING DATA PROCESSING + CLEANING\n",
      "                     timestamp          location  \\\n",
      "0    2021-12-18 10:50:01+00:00               NaN   \n",
      "1    2021-12-18 10:50:00+00:00          Kent, UK   \n",
      "2    2021-12-18 10:48:18+00:00   Česká republika   \n",
      "3    2021-12-18 10:48:12+00:00               NaN   \n",
      "4    2021-12-18 10:48:00+00:00     London, Paris   \n",
      "..                         ...               ...   \n",
      "495  2021-12-18 08:12:48+00:00     United States   \n",
      "496  2021-12-18 08:12:17+00:00   Los Angeles, CA   \n",
      "497  2021-12-18 08:11:36+00:00      Here and Now   \n",
      "498  2021-12-18 08:11:16+00:00   Bangalore India   \n",
      "499  2021-12-18 08:11:00+00:00  Faaborg, Denmark   \n",
      "\n",
      "                                                                                                                                                                                                                                                                                                                                                                                tweet_text  \\\n",
      "0                                                                                                  b'$7.99 Standup Comedy career launching 5 star workbook- Gift your funny friend or family member this unique gift! Purchase Link: https://t.co/rm1x1x5lvO C https://t.co/dyO7DW6hA5 #washingtondc #az #phoenix #nj #texas #nurses #doctors #walterreed #va #vahospital #surgery #covid'   \n",
      "1                                                                                                                                                                                                                                                                                  b'NEWS: The EFL say 25% of players are not vaccinated against #Covid #kmfmnews https://t.co/XGk3aNmFsn'   \n",
      "2                                                                                                                                                                                                                                                                                          b'#Covid: Action needed to limit hospital admissions - Sage scientists https://t.co/m7l5F0Efkb'   \n",
      "3                                                                                                                                                                                                                                      b\"Meanwhile in #Ireland #covid Virus is very dangerous after 8pm. Before that it's less dangerous. https://t.co/PKQy47mJ84 https://t.co/4ka7uAAXu6\"   \n",
      "4                                                                                                                                                                     b'Triple vaccinated \\xf0\\x9f\\xa6\\xb8\\xf0\\x9f\\x8f\\xbb\\xe2\\x80\\x8d\\xe2\\x99\\x80\\xef\\xb8\\x8f\\xf0\\x9f\\x92\\xaa  Feeling the power growing in my veins \\xf0\\x9f\\xa4\\xaa\\xf0\\x9f\\x99\\x88  #GetVaccinated #vaccinated #Covid'   \n",
      "..                                                                                                                                                                                                                                                                                                                                                                                     ...   \n",
      "495                                                                                                                                                                           b'Uncertainty, Fatigue, Dread: Another COVID Wave Is Coming https://t.co/oSXXUZG0Og via @davidmackau #DemVoice1 #Biden #Covid_19 #COVID #capitolhill #democrats #CDC #NIH #BREAKING #BreakingNews #pandemic'   \n",
      "496                                                                                                                    b'Growth in 7D US Confirmed Covid Deaths by County For SC   2021-12-13:  Covid Insights From Our Analytics Team and USAFacts #datavisualization #datascience #analytics #health #data #covid19 #publichealth #covid #omicron #globalhealth https://t.co/cw2DFb4rYv'   \n",
      "497                                                                                                                                                                                                                     b'Bitcoin, Ethereum, Dogecoin shares fall in value; know why https://t.co/3GLplgRyfC #bitcoin #covid #DigitalAssets #Ethereum #investment https://t.co/xRVvRkLoYd'   \n",
      "498                                                                                                 b'International Migrants Day is celebrated on 18 December to raise awareness about the protection of migrants and refugees #migrants #refugees #covid #migration #immigration #coronavirus #migrant #lockdown #humanrights #migrantworkers #india #immigrants https://t.co/WUswedkeWf'   \n",
      "499  b'#Informeret today   More #COVID19 restrictions and closures in \\xf0\\x9f\\x87\\xa9\\xf0\\x9f\\x87\\xb0  #Omicron cases \\xf0\\x9f\\x9a\\x80 upward  Fears \\xf0\\x9f\\x87\\xa9\\xf0\\x9f\\x87\\xb0 hospitals could be overwhelmed mount  Alcohol sales curtailed  \\xf0\\x9f\\x98\\xb7 mandates expanded  And another day of record high #COVID numbers   Subscribe &amp; Share   https://t.co/GKwIcvfgMq'   \n",
      "\n",
      "               username  \\\n",
      "0    b'MilwaukeeHotBuy'   \n",
      "1           b'kmfmnews'   \n",
      "2          b'zpravy_24'   \n",
      "3          b'Ettel_wen'   \n",
      "4    b'AudreyLebrellec'   \n",
      "..                  ...   \n",
      "495  b'JohnKevinLucke1'   \n",
      "496   b'njoyflyfishing'   \n",
      "497  b'luisgdelafuente'   \n",
      "498  b'LovdaleFoundatn'   \n",
      "499     b'WoodfordinDK'   \n",
      "\n",
      "                                                                                                                                                    all_hashtags  \\\n",
      "0                                    ['washingtondc', 'az', 'phoenix', 'nj', 'texas', 'nurses', 'doctors', 'walterreed', 'va', 'vahospital', 'surgery', 'covid']   \n",
      "1                                                                                                                                          ['Covid', 'kmfmnews']   \n",
      "2                                                                                                                                                      ['Covid']   \n",
      "3                                                                                                                                           ['Ireland', 'covid']   \n",
      "4                                                                                                                       ['GetVaccinated', 'vaccinated', 'Covid']   \n",
      "..                                                                                                                                                           ...   \n",
      "495                                ['DemVoice1', 'Biden', 'Covid_19', 'COVID', 'capitolhill', 'democrats', 'CDC', 'NIH', 'BREAKING', 'BreakingNews', 'pandemic']   \n",
      "496                           ['datavisualization', 'datascience', 'analytics', 'health', 'data', 'covid19', 'publichealth', 'covid', 'omicron', 'globalhealth']   \n",
      "497                                                                                              ['bitcoin', 'covid', 'DigitalAssets', 'Ethereum', 'investment']   \n",
      "498  ['migrants', 'refugees', 'covid', 'migration', 'immigration', 'coronavirus', 'migrant', 'lockdown', 'humanrights', 'migrantworkers', 'india', 'immigrants']   \n",
      "499                                                                                                                ['Informeret', 'COVID19', 'Omicron', 'COVID']   \n",
      "\n",
      "     followers_count  \n",
      "0               2039  \n",
      "1              20760  \n",
      "2                 23  \n",
      "3                337  \n",
      "4               6669  \n",
      "..               ...  \n",
      "495               45  \n",
      "496               33  \n",
      "497             1461  \n",
      "498               42  \n",
      "499            13664  \n",
      "\n",
      "[500 rows x 6 columns]\n",
      "0                                                                                                    b'$7.99 standup comedy career launching 5 star workbook- gift your funny friend or family member this unique gift! purchase link: https://t.co/rm1x1x5lvo c https://t.co/dyo7dw6ha5 #washingtondc #az #phoenix #nj #texas #nurses #doctors #walterreed #va #vahospital #surgery #covid'\n",
      "1                                                                                                                                                                                                                                                                                    b'news: the efl say 25% of players are not vaccinated against #covid #kmfmnews https://t.co/xgk3anmfsn'\n",
      "2                                                                                                                                                                                                                                                                                            b'#covid: action needed to limit hospital admissions - sage scientists https://t.co/m7l5f0efkb'\n",
      "3                                                                                                                                                                                                                                        b\"meanwhile in #ireland #covid virus is very dangerous after 8pm. before that it's less dangerous. https://t.co/pkqy47mj84 https://t.co/4ka7uaaxu6\"\n",
      "4                                                                                                                                                                       b'triple vaccinated \\xf0\\x9f\\xa6\\xb8\\xf0\\x9f\\x8f\\xbb\\xe2\\x80\\x8d\\xe2\\x99\\x80\\xef\\xb8\\x8f\\xf0\\x9f\\x92\\xaa  feeling the power growing in my veins \\xf0\\x9f\\xa4\\xaa\\xf0\\x9f\\x99\\x88  #getvaccinated #vaccinated #covid'\n",
      "                                                                                                                                                                                               ...                                                                                                                                                                                          \n",
      "495                                                                                                                                                                             b'uncertainty, fatigue, dread: another covid wave is coming https://t.co/osxxuzg0og via @davidmackau #demvoice1 #biden #covid_19 #covid #capitolhill #democrats #cdc #nih #breaking #breakingnews #pandemic'\n",
      "496                                                                                                                      b'growth in 7d us confirmed covid deaths by county for sc   2021-12-13:  covid insights from our analytics team and usafacts #datavisualization #datascience #analytics #health #data #covid19 #publichealth #covid #omicron #globalhealth https://t.co/cw2dfb4ryv'\n",
      "497                                                                                                                                                                                                                       b'bitcoin, ethereum, dogecoin shares fall in value; know why https://t.co/3glplgryfc #bitcoin #covid #digitalassets #ethereum #investment https://t.co/xrvvrkloyd'\n",
      "498                                                                                                   b'international migrants day is celebrated on 18 december to raise awareness about the protection of migrants and refugees #migrants #refugees #covid #migration #immigration #coronavirus #migrant #lockdown #humanrights #migrantworkers #india #immigrants https://t.co/wuswedkewf'\n",
      "499    b'#informeret today   more #covid19 restrictions and closures in \\xf0\\x9f\\x87\\xa9\\xf0\\x9f\\x87\\xb0  #omicron cases \\xf0\\x9f\\x9a\\x80 upward  fears \\xf0\\x9f\\x87\\xa9\\xf0\\x9f\\x87\\xb0 hospitals could be overwhelmed mount  alcohol sales curtailed  \\xf0\\x9f\\x98\\xb7 mandates expanded  and another day of record high #covid numbers   subscribe &amp; share   https://t.co/gkwicvfgmq'\n",
      "Name: tweet_text, Length: 500, dtype: object\n"
     ]
    },
    {
     "ename": "AttributeError",
     "evalue": "'DataFrame' object has no attribute 'tweet_column'",
     "output_type": "error",
     "traceback": [
      "\u001b[0;31m---------------------------------------------------------------------------\u001b[0m",
      "\u001b[0;31mAttributeError\u001b[0m                            Traceback (most recent call last)",
      "\u001b[0;32m/var/folders/1q/snl996k91jzb97fx3w_zmck40000gn/T/ipykernel_17631/4183747035.py\u001b[0m in \u001b[0;36m<module>\u001b[0;34m\u001b[0m\n\u001b[1;32m     34\u001b[0m \u001b[0mprint\u001b[0m\u001b[0;34m(\u001b[0m\u001b[0mdf_copy\u001b[0m\u001b[0;34m[\u001b[0m\u001b[0mtweet_column\u001b[0m\u001b[0;34m]\u001b[0m\u001b[0;34m)\u001b[0m\u001b[0;34m\u001b[0m\u001b[0;34m\u001b[0m\u001b[0m\n\u001b[1;32m     35\u001b[0m \u001b[0mdf_copy\u001b[0m\u001b[0;34m.\u001b[0m\u001b[0mdrop_duplicates\u001b[0m\u001b[0;34m(\u001b[0m\u001b[0msubset\u001b[0m\u001b[0;34m=\u001b[0m\u001b[0mtweet_column\u001b[0m\u001b[0;34m,\u001b[0m \u001b[0mkeep\u001b[0m\u001b[0;34m=\u001b[0m\u001b[0;34m'first'\u001b[0m\u001b[0;34m,\u001b[0m \u001b[0minplace\u001b[0m\u001b[0;34m=\u001b[0m\u001b[0;32mTrue\u001b[0m\u001b[0;34m,\u001b[0m \u001b[0mignore_index\u001b[0m\u001b[0;34m=\u001b[0m\u001b[0;32mFalse\u001b[0m\u001b[0;34m)\u001b[0m \u001b[0;31m#removing duplicates\u001b[0m\u001b[0;34m\u001b[0m\u001b[0;34m\u001b[0m\u001b[0m\n\u001b[0;32m---> 36\u001b[0;31m \u001b[0mdf_copy\u001b[0m\u001b[0;34m[\u001b[0m\u001b[0;34m~\u001b[0m\u001b[0mdf_copy\u001b[0m\u001b[0;34m.\u001b[0m\u001b[0mtweet_column\u001b[0m\u001b[0;34m.\u001b[0m\u001b[0mstr\u001b[0m\u001b[0;34m.\u001b[0m\u001b[0mstartswith\u001b[0m\u001b[0;34m(\u001b[0m\u001b[0;34m'rt'\u001b[0m\u001b[0;34m)\u001b[0m\u001b[0;34m]\u001b[0m \u001b[0;31m#removing retweets\u001b[0m\u001b[0;34m\u001b[0m\u001b[0;34m\u001b[0m\u001b[0m\n\u001b[0m\u001b[1;32m     37\u001b[0m \u001b[0mdf_copy\u001b[0m\u001b[0;34m[\u001b[0m\u001b[0mtweet_column\u001b[0m\u001b[0;34m]\u001b[0m \u001b[0;34m=\u001b[0m \u001b[0mdf_copy\u001b[0m\u001b[0;34m[\u001b[0m\u001b[0mtweet_column\u001b[0m\u001b[0;34m]\u001b[0m\u001b[0;34m.\u001b[0m\u001b[0mapply\u001b[0m\u001b[0;34m(\u001b[0m\u001b[0;32mlambda\u001b[0m \u001b[0mk\u001b[0m\u001b[0;34m:\u001b[0m \u001b[0mhtml\u001b[0m\u001b[0;34m.\u001b[0m\u001b[0munescape\u001b[0m\u001b[0;34m(\u001b[0m\u001b[0mstr\u001b[0m\u001b[0;34m(\u001b[0m\u001b[0mk\u001b[0m\u001b[0;34m)\u001b[0m\u001b[0;34m)\u001b[0m\u001b[0;34m)\u001b[0m \u001b[0;31m#removing unnecessary characters\u001b[0m\u001b[0;34m\u001b[0m\u001b[0;34m\u001b[0m\u001b[0m\n\u001b[1;32m     38\u001b[0m \u001b[0;34m\u001b[0m\u001b[0m\n",
      "\u001b[0;32m/opt/anaconda3/lib/python3.9/site-packages/pandas/core/generic.py\u001b[0m in \u001b[0;36m__getattr__\u001b[0;34m(self, name)\u001b[0m\n\u001b[1;32m   5485\u001b[0m         ):\n\u001b[1;32m   5486\u001b[0m             \u001b[0;32mreturn\u001b[0m \u001b[0mself\u001b[0m\u001b[0;34m[\u001b[0m\u001b[0mname\u001b[0m\u001b[0;34m]\u001b[0m\u001b[0;34m\u001b[0m\u001b[0;34m\u001b[0m\u001b[0m\n\u001b[0;32m-> 5487\u001b[0;31m         \u001b[0;32mreturn\u001b[0m \u001b[0mobject\u001b[0m\u001b[0;34m.\u001b[0m\u001b[0m__getattribute__\u001b[0m\u001b[0;34m(\u001b[0m\u001b[0mself\u001b[0m\u001b[0;34m,\u001b[0m \u001b[0mname\u001b[0m\u001b[0;34m)\u001b[0m\u001b[0;34m\u001b[0m\u001b[0;34m\u001b[0m\u001b[0m\n\u001b[0m\u001b[1;32m   5488\u001b[0m \u001b[0;34m\u001b[0m\u001b[0m\n\u001b[1;32m   5489\u001b[0m     \u001b[0;32mdef\u001b[0m \u001b[0m__setattr__\u001b[0m\u001b[0;34m(\u001b[0m\u001b[0mself\u001b[0m\u001b[0;34m,\u001b[0m \u001b[0mname\u001b[0m\u001b[0;34m:\u001b[0m \u001b[0mstr\u001b[0m\u001b[0;34m,\u001b[0m \u001b[0mvalue\u001b[0m\u001b[0;34m)\u001b[0m \u001b[0;34m->\u001b[0m \u001b[0;32mNone\u001b[0m\u001b[0;34m:\u001b[0m\u001b[0;34m\u001b[0m\u001b[0;34m\u001b[0m\u001b[0m\n",
      "\u001b[0;31mAttributeError\u001b[0m: 'DataFrame' object has no attribute 'tweet_column'"
     ]
    }
   ],
   "source": [
    "#THIS VERSION IS NOT FUNCITONING CORRECTLY\n",
    "\n",
    "import matplotlib.pyplot as plt\n",
    "import seaborn as sns\n",
    "import pandas as pd\n",
    "import numpy as np\n",
    "import torch\n",
    "import html\n",
    "import re\n",
    "from transformers import pipeline\n",
    "from tqdm import tqdm\n",
    "from transformers import AutoTokenizer, AutoModelForSequenceClassification\n",
    "from transformers import BartTokenizer, BartModel\n",
    "from transformers import pipeline\n",
    "\n",
    "print('INITIALIZING DATA PROCESSING + CLEANING')\n",
    "\n",
    "try:\n",
    "    user_csv = input('Please input the exact name of the CSV file you wish to analyze: ')\n",
    "    tweet_column = input('Please input the name of the column containing the tweets: ')\n",
    "    tweet_column_with_quotes = \"'\" + tweet_column + \"'\"\n",
    "\n",
    "    dataframe = pd.read_csv(user_csv, delimiter=',',encoding='utf-8', header = 0)\n",
    "    pd.set_option('display.max_colwidth', None)\n",
    "    dataframe.rename(columns={tweet_column_with_quotes:'tweet'}) #renaming the tweet column to 'tweet'\n",
    "    print(dataframe)\n",
    "    \n",
    "except FileNotFoundError:\n",
    "    print('There was an error finding the CSV you requested, please check the following:','\\n', '1. The CSV file is in the correct directory', '\\n', '2. You gave the correct name of the file, following the syntax: yourfilename.csv')\n",
    "\n",
    "\n",
    "df_copy = dataframe.copy() #creating a copy of the dataframe\n",
    "df_copy[tweet_column] = df_copy[tweet_column].str.lower() #making everything lower case\n",
    "print(df_copy[tweet_column])\n",
    "df_copy.drop_duplicates(subset=tweet_column, keep='first', inplace=True, ignore_index=False) #removing duplicates\n",
    "df_copy[~df_copy.tweet_column.str.startswith('rt')] #removing retweets\n",
    "df_copy[tweet_column] = df_copy[tweet_column].apply(lambda k: html.unescape(str(k))) #removing unnecessary characters\n",
    "\n",
    "def clean_text(text):\n",
    "    text = re.sub(r'@[A-Za-z0-9]+', '', text) #Removed mentions\n",
    "    text = re.sub(r'#', '', text) #Removed hashtags\n",
    "    text = re.sub(r'https?:\\/\\/\\S+', '', text) #Remove the hyperlink\n",
    "    text = re.sub(r'\\'[\\s]+', '', text) #Remove apostrophe\n",
    "    text = re.sub(r'\\...+', '', text) #Remove dots\n",
    "    text = re.sub(r'\\!', '', text) #Remove exclamation  marks\n",
    "\n",
    "    return text\n",
    "\n",
    "df_copy['tweet'] = df_copy['tweet'].apply(clean_text)\n",
    "\n",
    "df_copy.to_csv('Cleaned_Data.csv')\n",
    "\n",
    "print('\\n','DATA PROCESSING + CLEANING COMPLETE', '\\n')\n",
    "print('INITIALIZING DATA ANALYSIS')\n",
    "\n",
    "print('The standard model being used is Valhalla, an optimized version of the Bart Large pretrained analysis model providing faster results.', '\\n', 'If you have not used it before, it may take a while to download as it is quite large.','\\n')\n",
    "\n",
    "model = input('If you wish to use Bart Large instead, type y.')\n",
    "\n",
    "if model == 'y':\n",
    "    tokenizer = BartTokenizer.from_pretrained('facebook/bart-large')\n",
    "    model = BartModel.from_pretrained('facebook/bart-large')\n",
    "else:\n",
    "    tokenizer = AutoTokenizer.from_pretrained(\"valhalla/distilbart-mnli-12-1\")\n",
    "    model = AutoModelForSequenceClassification.from_pretrained(\"valhalla/distilbart-mnli-12-1\", device = -1)\n",
    "\n",
    "try:\n",
    "    classifier = pipeline(\"zero-shot-classification\", model = model, tokenizer = tokenizer, device = -1) #classifier = pipeline(task='zero-shot-classification', model=model, tokenizer=tokenizer, framework='pt')\n",
    "except RuntimeError:\n",
    "    print(\"A runtime error occurred, check if tensorflow and pytorch are correctly installed, need to be version >= 2\")\n",
    "\n",
    "df_original  = pd.read_csv(r'Cleaned_Data.csv')\n",
    "rows = df_original['tweet'].count()\n",
    "\n",
    "try:\n",
    "    number_of_rows = int(input(f'Please specify the number of rows you wish to analyze, in your current dataset, there are {rows} rows of tweets, if you wish to look at them all, input any non-numerical character'))\n",
    "    df_name = df_original.head(number_of_rows)\n",
    "except ValueError:\n",
    "    df_name = df_original\n",
    "\n",
    "candidate_labels = []\n",
    "candidate_results = []\n",
    "\n",
    "def approval():\n",
    "    candidate_labels = []\n",
    "    labels = input('Please specify the lables you wish to analyze the tweets with, type \"done\" once you have inputted the ones you wish to use')\n",
    "\n",
    "    while labels != 'done':\n",
    "        candidate_labels.append(labels)\n",
    "        labels = input('Please specify the lables you wish to analyze the tweets with, type \"done\" once you have inputted the ones you wish to use')\n",
    "    \n",
    "    print(f'{candidate_labels}')\n",
    "    print('\\n')\n",
    "    approved = input('Are these labels correct? if so, type \"y\", if not, type any other character')\n",
    "\n",
    "    if approved != \"y\":\n",
    "        approval()\n",
    "    else:\n",
    "        print('APPRPOVED, INITALIZING TWEET ANALYSIS', '\\n')\n",
    "    return candidate_labels\n",
    "\n",
    "candidate_labels = approval()\n",
    "print(candidate_labels)\n",
    "\n",
    "for x in range(len(candidate_labels)):\n",
    "    candidate_results.append(0)\n",
    "\n",
    "for sent in tqdm(df_name['tweet'].values):\n",
    "        \n",
    "    res = classifier(sent, candidate_labels, multi_label = True) #change multilabel to True for different results\n",
    "\n",
    "    for i in range(len(candidate_labels)):\n",
    "      if res['labels'][0] == candidate_labels[i] and res['scores'][0] > 0.5:\n",
    "          candidate_results[i] = candidate_results[i] + 1\n",
    "\n",
    "    if res['scores'][0] > 0.5: #the code below this can be removed if you do not wish to have all of the results printed (might be useful for when the program is actually implemented)\n",
    "        print(sent)\n",
    "        print(res['labels'])\n",
    "        print(res['scores'])\n",
    "        print('\\n')\n",
    "\n",
    "data = {'labels': candidate_labels, 'values': candidate_results}\n",
    "df_frequency = pd.DataFrame(data, columns=['labels', 'values'])\n",
    "df_frequency.head()\n",
    "sns.barplot(data = df_frequency, x = 'labels', y = 'values')\n"
   ]
  }
 ],
 "metadata": {
  "interpreter": {
   "hash": "40d3a090f54c6569ab1632332b64b2c03c39dcf918b08424e98f38b5ae0af88f"
  },
  "kernelspec": {
   "display_name": "Python 3.9.7 64-bit ('base': conda)",
   "language": "python",
   "name": "python3"
  },
  "language_info": {
   "codemirror_mode": {
    "name": "ipython",
    "version": 3
   },
   "file_extension": ".py",
   "mimetype": "text/x-python",
   "name": "python",
   "nbconvert_exporter": "python",
   "pygments_lexer": "ipython3",
   "version": "3.9.7"
  },
  "orig_nbformat": 4
 },
 "nbformat": 4,
 "nbformat_minor": 2
}
